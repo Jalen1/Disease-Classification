{
 "cells": [
  {
   "cell_type": "markdown",
   "metadata": {},
   "source": [
    "# Retinal Disease Detection and Classification\n",
    "\n",
    "## By: Jalen Wu, Yechan Na, Jonathan Zhang"
   ]
  },
  {
   "cell_type": "markdown",
   "metadata": {},
   "source": [
    "__Project Description:__\n",
    "\n",
    "The goal of this project is to develop a machine learning model capable of detecting retinal diseases by analyzing fundus images of the eye. Using computer vision and deep learning techniques, the model assists in early detection and diagnosis of retinal disease(s).\n",
    "\n",
    "__Applications and Impact:__\n",
    "\n",
    "This project could be used for clinical screening to help ophthalmologists identify diseases and improve efficiency on identifying these diseases. This automated detection system has the potential to make medical imaging diagnostics more accessible.\n",
    "\n",
    "__What we hope to achieve:__\n",
    "\n",
    "We hope to build a model that takes in images of the eye and accurately predicts whether an individual’s eyes are healthy or showing signs of disease. To quantify the effectiveness of our model, we will be measuring metrics such as F1 score, precision, recall, loss, and accuracy of our models and graphing them as a function of how many epochs we run on our training data (all of these scores should increase in subsequent epochs).\n",
    "\n",
    "- __Dataset__: https://www.kaggle.com/datasets/andrewmvd/retinal-disease-classification/data\n",
    "- __References__: \n",
    "    - https://www.mdpi.com/2306-5729/6/2/14\n",
    "    - https://jamanetwork.com/journals/jama/fullarticle/2588763\n",
    "    "
   ]
  },
  {
   "cell_type": "code",
   "execution_count": 33,
   "metadata": {},
   "outputs": [],
   "source": [
    "# imports\n",
    "\n",
    "import torch\n",
    "from torch import nn\n",
    "from torch.utils.data import DataLoader\n",
    "from torchvision import datasets\n",
    "from torchvision.transforms import ToTensor\n",
    "from torchvision import transforms\n",
    "import torch.nn.functional as F\n",
    "import numpy as np\n",
    "from matplotlib import pyplot as plt\n",
    "import os\n",
    "from torch.utils.data import Dataset\n",
    "import pandas as pd\n",
    "from skimage import io, transform\n",
    "from torch import tensor\n",
    "from PIL import Image\n",
    "from torch import flatten"
   ]
  },
  {
   "cell_type": "code",
   "execution_count": 34,
   "metadata": {},
   "outputs": [
    {
     "name": "stdout",
     "output_type": "stream",
     "text": [
      "Path to dataset files: C:\\Users\\wendy\\.cache\\kagglehub\\datasets\\andrewmvd\\retinal-disease-classification\\versions\\1\n"
     ]
    }
   ],
   "source": [
    "# Import Dataset\n",
    "import kagglehub\n",
    "\n",
    "# Download latest version\n",
    "path = kagglehub.dataset_download(\"andrewmvd/retinal-disease-classification\")\n",
    "\n",
    "print(\"Path to dataset files:\", path)"
   ]
  },
  {
   "cell_type": "code",
   "execution_count": 35,
   "metadata": {},
   "outputs": [
    {
     "name": "stdout",
     "output_type": "stream",
     "text": [
      "Using cpu device\n"
     ]
    }
   ],
   "source": [
    "# Get cpu, gpu or mps device for training.\n",
    "device = (\n",
    "    \"cuda\"\n",
    "    if torch.cuda.is_available()\n",
    "    else \"mps\"\n",
    "    if torch.backends.mps.is_available()\n",
    "    else \"cpu\"\n",
    ")\n",
    "print(f\"Using {device} device\")"
   ]
  },
  {
   "cell_type": "code",
   "execution_count": 36,
   "metadata": {},
   "outputs": [
    {
     "name": "stdout",
     "output_type": "stream",
     "text": [
      "C:\\Users\\wendy\\.cache\\kagglehub\\datasets\\andrewmvd\\retinal-disease-classification\\versions\\1\n",
      "Directory exists and its contents are:\n",
      "['Evaluation_Set', 'Test_Set', 'Training_Set']\n"
     ]
    }
   ],
   "source": [
    "# X = 1424 x 2144 x 3 : h x w x colors\n",
    "# y = label\n",
    "transform = transforms.Compose([\n",
    "    transforms.Resize((int(1424 / 4), int(2144 / 4))), # Standardize image dimensions to 1444 x 2144\n",
    "    transforms.ToTensor(),          # Convert images to PyTorch tensors\n",
    "    # transforms.Normalize(mean=[0.5, 0.5, 0.5], std=[0.5, 0.5, 0.5])  # Normalize to [-1, 1]\n",
    "])\n",
    "\n",
    "base_directory = path  \n",
    "print(base_directory)\n",
    "\n",
    "if os.path.exists(base_directory):\n",
    "    print(\"Directory exists and its contents are:\")\n",
    "    print(os.listdir(base_directory))\n",
    "else:\n",
    "    print(\"Directory does not exist.\")"
   ]
  },
  {
   "cell_type": "code",
   "execution_count": 37,
   "metadata": {},
   "outputs": [],
   "source": [
    "# Constants (paths that will be accessed later in the project)\n",
    "BASE_DIRECTORY = path\n",
    "TRAINING_DIRECTORY = os.path.join(BASE_DIRECTORY, 'Training_Set', 'Training_Set', 'Training')\n",
    "TRAINING_LABELS = os.path.join(BASE_DIRECTORY, 'Training_Set', 'Training_Set', 'RFMiD_Training_Labels.csv')\n",
    "TESTING_DIRECTORY = os.path.join(BASE_DIRECTORY, 'Test_Set', 'Test_Set', 'Test')\n",
    "TESTING_LABELS = os.path.join(BASE_DIRECTORY, 'Test_Set', 'Test_Set', 'RFMiD_Testing_Labels.csv')"
   ]
  },
  {
   "cell_type": "code",
   "execution_count": 53,
   "metadata": {},
   "outputs": [],
   "source": [
    "class MultiClassDataset(Dataset):\n",
    "    \"\"\"\n",
    "    Supports structure of given dataset (images in child folder and labels in csv format).\n",
    "    \"\"\"\n",
    "    def __init__(self, label_csv_file, image_directory, transform=None):\n",
    "        \"\"\"\n",
    "        Args:\n",
    "            label_csv_file (str): Path to the CSV label file.\n",
    "            image_directory (str): Directory with eye images.\n",
    "            transform (callable, optional): transform function to be applied to each image.\n",
    "        \"\"\"\n",
    "        self.label_csv_file = pd.read_csv(label_csv_file)\n",
    "        self.image_directory = image_directory\n",
    "        self.transform = transform\n",
    "    \n",
    "    def __len__(self):\n",
    "        return len(self.label_csv_file)    \n",
    "\n",
    "    def __getitem__(self, index):\n",
    "        \"\"\"\n",
    "        Args:\n",
    "            index: the index of the image/label pair we want to retrieve\n",
    "            \n",
    "        Returns:\n",
    "            image_and_label (dict): A dictionary containing the image and its corresponding label at the requested index.\n",
    "        \"\"\"\n",
    "\n",
    "        # The images are PNG and one-indexed (1.png, 2.png, 3.png, ...)\n",
    "        image_path = os.path.join(self.image_directory, str(index + 1) +'.png')\n",
    "        \n",
    "        image_label = self.label_csv_file.loc[index]\n",
    "        image_label = image_label.to_numpy()\n",
    "        image_label = image_label[1:]\n",
    "        image_label = tensor(image_label)\n",
    "        \n",
    "        # Loads image at the given path.\n",
    "        current_image = io.imread(image_path)\n",
    "        \n",
    "        if current_image is None or current_image.size == 0:\n",
    "            raise ValueError(f\"Failed to load image: {image_path}\")\n",
    "       \n",
    "        # Convert to PIL Image\n",
    "        current_image = Image.fromarray(current_image)\n",
    "        \n",
    "        # If transform function passed in, apply transform to image\n",
    "        if self.transform:\n",
    "            transformed_image = self.transform(current_image)\n",
    "            return {'image': transformed_image, 'label': image_label}\n",
    "        \n",
    "        return {'image': current_image,'label': image_label}"
   ]
  },
  {
   "cell_type": "code",
   "execution_count": 54,
   "metadata": {},
   "outputs": [
    {
     "name": "stdout",
     "output_type": "stream",
     "text": [
      "torch.Size([64, 3, 356, 536])\n",
      "torch.Size([64, 46])\n",
      "tensor([1, 1, 0, 0, 0, 0, 0, 0, 0, 0, 0, 0, 0, 0, 0, 0, 0, 0, 0, 0, 0, 0, 0, 0,\n",
      "        0, 0, 0, 0, 0, 0, 0, 0, 0, 0, 0, 0, 0, 0, 0, 0, 0, 0, 0, 0, 0, 0])\n",
      "tensor([[0., 0., 0.,  ..., 0., 0., 0.],\n",
      "        [0., 0., 0.,  ..., 0., 0., 0.],\n",
      "        [0., 0., 0.,  ..., 0., 0., 0.],\n",
      "        ...,\n",
      "        [0., 0., 0.,  ..., 0., 0., 0.],\n",
      "        [0., 0., 0.,  ..., 0., 0., 0.],\n",
      "        [0., 0., 0.,  ..., 0., 0., 0.]])\n"
     ]
    }
   ],
   "source": [
    "# Initializing dataset and loader.\n",
    "train_dataset = MultiClassDataset(label_csv_file=TRAINING_LABELS, image_directory=TRAINING_DIRECTORY, transform=transform)\n",
    "train_loader = DataLoader(train_dataset, batch_size=64)\n",
    "\n",
    "# Visualize loader\n",
    "res = next(iter(train_loader))\n",
    "print(res['image'].shape)\n",
    "print(res['label'].shape)\n",
    "\n",
    "print(res['label'][0])\n",
    "print(res['image'][0][0])"
   ]
  },
  {
   "cell_type": "code",
   "execution_count": 61,
   "metadata": {},
   "outputs": [
    {
     "name": "stdout",
     "output_type": "stream",
     "text": [
      "torch.Size([3, 356, 536])\n"
     ]
    }
   ],
   "source": [
    "# image tensor format: [batch_size, channels, height, width]\n",
    "print(res['image'][0].shape)"
   ]
  },
  {
   "cell_type": "code",
   "execution_count": 57,
   "metadata": {},
   "outputs": [
    {
     "name": "stdout",
     "output_type": "stream",
     "text": [
      "tensor([1, 1, 0, 0, 0, 0, 0, 0, 0, 0, 0, 0, 0, 0, 0, 0, 0, 0, 0, 0, 0, 0, 0, 0,\n",
      "        0, 0, 0, 0, 0, 0, 0, 0, 0, 0, 0, 0, 0, 0, 0, 0, 0, 0, 0, 0, 0, 0])\n",
      "tensor([1, 1, 0, 0, 0, 0, 0, 0, 0, 0, 0, 0, 0, 0, 0, 0, 0, 0, 0, 0, 0, 0, 0, 0,\n",
      "        0, 0, 0, 0, 0, 0, 0, 0, 0, 0, 0, 0, 0, 0, 0, 0, 0, 0, 0, 0, 0, 0])\n",
      "tensor([1, 1, 0, 0, 0, 0, 0, 0, 0, 0, 0, 0, 0, 0, 0, 0, 0, 0, 0, 0, 0, 0, 0, 0,\n",
      "        0, 0, 0, 0, 0, 0, 0, 0, 0, 0, 0, 0, 0, 0, 0, 0, 0, 0, 0, 0, 0, 0])\n",
      "tensor([1, 0, 0, 1, 0, 0, 0, 0, 0, 0, 0, 0, 1, 0, 0, 0, 0, 0, 0, 0, 0, 0, 0, 0,\n",
      "        0, 0, 0, 0, 0, 0, 0, 0, 0, 0, 0, 0, 0, 0, 0, 0, 0, 0, 0, 0, 0, 0])\n",
      "tensor([1, 1, 0, 0, 0, 0, 0, 0, 0, 1, 0, 0, 0, 0, 0, 0, 0, 0, 0, 0, 0, 0, 0, 0,\n",
      "        0, 0, 0, 0, 0, 0, 0, 0, 0, 0, 0, 0, 0, 0, 0, 0, 0, 0, 0, 0, 0, 0])\n",
      "tensor([1, 0, 1, 0, 0, 1, 0, 0, 0, 0, 0, 0, 0, 0, 0, 0, 0, 0, 0, 0, 0, 0, 0, 0,\n",
      "        0, 0, 0, 0, 0, 0, 0, 0, 0, 0, 0, 0, 0, 0, 0, 0, 0, 0, 0, 0, 0, 0])\n",
      "tensor([1, 0, 1, 0, 0, 1, 0, 0, 0, 0, 0, 0, 0, 0, 0, 0, 0, 0, 0, 0, 0, 0, 0, 0,\n",
      "        0, 0, 0, 0, 0, 0, 0, 0, 0, 0, 0, 0, 0, 0, 0, 0, 0, 0, 0, 0, 0, 0])\n",
      "tensor([1, 0, 1, 0, 0, 1, 0, 0, 0, 0, 0, 0, 0, 0, 0, 0, 0, 0, 0, 0, 0, 0, 0, 0,\n",
      "        0, 0, 0, 0, 0, 0, 0, 0, 0, 0, 0, 0, 0, 0, 0, 0, 0, 0, 0, 0, 0, 0])\n",
      "tensor([1, 0, 0, 0, 0, 0, 0, 0, 1, 0, 0, 0, 0, 0, 0, 0, 0, 0, 0, 0, 0, 0, 0, 0,\n",
      "        0, 0, 0, 0, 0, 0, 0, 0, 0, 0, 0, 0, 0, 0, 0, 0, 0, 0, 0, 0, 0, 0])\n",
      "tensor([0, 0, 0, 0, 0, 0, 0, 0, 0, 0, 0, 0, 0, 0, 0, 0, 0, 0, 0, 0, 0, 0, 0, 0,\n",
      "        0, 0, 0, 0, 0, 0, 0, 0, 0, 0, 0, 0, 0, 0, 0, 0, 0, 0, 0, 0, 0, 0])\n",
      "tensor([1, 0, 1, 1, 0, 0, 0, 0, 0, 0, 0, 0, 0, 0, 0, 0, 0, 0, 0, 0, 0, 0, 0, 0,\n",
      "        0, 0, 0, 0, 0, 0, 0, 0, 0, 0, 0, 0, 0, 0, 0, 0, 0, 0, 0, 0, 0, 0])\n",
      "tensor([1, 0, 1, 0, 0, 1, 0, 0, 0, 0, 0, 0, 1, 0, 0, 0, 0, 0, 0, 0, 0, 0, 0, 0,\n",
      "        0, 0, 0, 0, 0, 0, 0, 0, 0, 0, 0, 0, 0, 0, 0, 0, 0, 0, 0, 0, 0, 0])\n",
      "tensor([1, 0, 0, 0, 1, 0, 0, 0, 0, 0, 0, 0, 0, 0, 0, 0, 0, 0, 0, 0, 0, 0, 0, 0,\n",
      "        0, 0, 0, 0, 0, 0, 0, 0, 0, 0, 0, 0, 0, 0, 0, 0, 0, 0, 0, 0, 0, 0])\n",
      "tensor([1, 0, 0, 0, 1, 0, 0, 0, 0, 0, 0, 0, 0, 0, 0, 0, 0, 0, 0, 0, 0, 0, 0, 0,\n",
      "        0, 0, 0, 0, 0, 0, 0, 0, 0, 0, 0, 0, 0, 0, 0, 0, 0, 0, 0, 0, 0, 0])\n",
      "tensor([1, 0, 0, 1, 0, 0, 0, 0, 0, 0, 1, 0, 0, 0, 0, 0, 0, 0, 0, 0, 0, 0, 0, 0,\n",
      "        0, 0, 0, 0, 0, 0, 0, 0, 0, 0, 0, 0, 0, 0, 0, 0, 0, 0, 0, 0, 0, 0])\n",
      "tensor([0, 0, 0, 0, 0, 0, 0, 0, 0, 0, 0, 0, 0, 0, 0, 0, 0, 0, 0, 0, 0, 0, 0, 0,\n",
      "        0, 0, 0, 0, 0, 0, 0, 0, 0, 0, 0, 0, 0, 0, 0, 0, 0, 0, 0, 0, 0, 0])\n",
      "tensor([0, 0, 0, 0, 0, 0, 0, 0, 0, 0, 0, 0, 0, 0, 0, 0, 0, 0, 0, 0, 0, 0, 0, 0,\n",
      "        0, 0, 0, 0, 0, 0, 0, 0, 0, 0, 0, 0, 0, 0, 0, 0, 0, 0, 0, 0, 0, 0])\n",
      "tensor([1, 1, 0, 0, 0, 0, 0, 0, 0, 1, 0, 0, 0, 0, 1, 0, 0, 0, 0, 0, 0, 0, 0, 0,\n",
      "        0, 0, 0, 0, 0, 0, 0, 0, 0, 0, 0, 0, 0, 0, 0, 0, 0, 0, 0, 0, 0, 0])\n",
      "tensor([1, 1, 0, 1, 0, 0, 0, 0, 0, 0, 0, 0, 0, 0, 0, 0, 0, 0, 0, 0, 0, 0, 0, 0,\n",
      "        0, 0, 0, 0, 0, 0, 0, 0, 0, 0, 0, 0, 0, 0, 0, 0, 0, 0, 0, 0, 0, 0])\n",
      "tensor([1, 1, 0, 0, 0, 0, 0, 0, 0, 0, 0, 0, 0, 0, 0, 0, 0, 0, 0, 0, 0, 0, 0, 0,\n",
      "        0, 0, 0, 0, 0, 0, 0, 0, 0, 0, 0, 0, 0, 0, 0, 0, 0, 0, 0, 0, 0, 0])\n",
      "tensor([0, 0, 0, 0, 0, 0, 0, 0, 0, 0, 0, 0, 0, 0, 0, 0, 0, 0, 0, 0, 0, 0, 0, 0,\n",
      "        0, 0, 0, 0, 0, 0, 0, 0, 0, 0, 0, 0, 0, 0, 0, 0, 0, 0, 0, 0, 0, 0])\n",
      "tensor([1, 0, 0, 1, 0, 0, 0, 0, 0, 0, 0, 0, 1, 0, 0, 0, 0, 0, 0, 0, 0, 0, 0, 0,\n",
      "        0, 0, 0, 0, 0, 0, 0, 0, 0, 0, 0, 0, 0, 0, 0, 0, 0, 0, 0, 0, 0, 0])\n",
      "tensor([1, 0, 0, 0, 0, 0, 0, 0, 0, 0, 0, 0, 1, 0, 0, 0, 0, 0, 0, 0, 0, 0, 0, 0,\n",
      "        0, 0, 0, 0, 0, 0, 0, 0, 0, 0, 0, 0, 0, 0, 0, 0, 0, 0, 0, 0, 0, 0])\n",
      "tensor([1, 0, 0, 1, 0, 0, 0, 1, 0, 0, 0, 0, 0, 0, 0, 0, 0, 0, 0, 0, 0, 0, 0, 0,\n",
      "        0, 0, 0, 0, 0, 0, 0, 0, 0, 0, 0, 0, 0, 0, 0, 0, 0, 0, 0, 0, 0, 0])\n",
      "tensor([1, 0, 1, 0, 0, 0, 0, 0, 0, 0, 0, 0, 0, 0, 0, 0, 0, 0, 0, 0, 0, 0, 0, 0,\n",
      "        0, 0, 0, 0, 0, 0, 0, 0, 0, 0, 0, 0, 0, 0, 0, 0, 0, 0, 0, 0, 0, 0])\n",
      "tensor([1, 1, 0, 0, 0, 0, 0, 0, 0, 1, 0, 0, 0, 0, 0, 0, 0, 0, 0, 0, 0, 0, 0, 0,\n",
      "        0, 0, 0, 0, 0, 0, 0, 0, 0, 0, 0, 0, 0, 0, 0, 0, 0, 0, 0, 0, 0, 0])\n",
      "tensor([1, 0, 0, 0, 0, 0, 0, 1, 0, 0, 0, 0, 0, 0, 0, 0, 1, 0, 0, 0, 0, 0, 0, 0,\n",
      "        1, 0, 0, 0, 0, 0, 0, 0, 0, 0, 0, 0, 0, 0, 0, 0, 0, 0, 0, 0, 0, 0])\n",
      "tensor([0, 0, 0, 0, 0, 0, 0, 0, 0, 0, 0, 0, 0, 0, 0, 0, 0, 0, 0, 0, 0, 0, 0, 0,\n",
      "        0, 0, 0, 0, 0, 0, 0, 0, 0, 0, 0, 0, 0, 0, 0, 0, 0, 0, 0, 0, 0, 0])\n",
      "tensor([1, 0, 0, 0, 0, 0, 0, 1, 0, 0, 0, 0, 0, 0, 0, 0, 0, 0, 0, 0, 0, 0, 0, 0,\n",
      "        0, 0, 0, 0, 0, 0, 0, 0, 0, 0, 0, 0, 0, 0, 0, 0, 0, 0, 0, 0, 0, 0])\n",
      "tensor([1, 0, 0, 0, 0, 0, 0, 0, 0, 0, 0, 0, 0, 0, 0, 0, 0, 0, 0, 0, 0, 0, 0, 1,\n",
      "        0, 0, 0, 0, 0, 0, 0, 0, 0, 0, 0, 0, 0, 0, 0, 0, 0, 0, 0, 0, 0, 0])\n",
      "tensor([1, 0, 0, 0, 0, 0, 0, 0, 0, 0, 0, 0, 1, 0, 0, 0, 0, 0, 0, 0, 0, 0, 0, 1,\n",
      "        0, 0, 0, 0, 0, 0, 0, 0, 0, 0, 0, 0, 0, 0, 0, 0, 0, 0, 0, 0, 0, 0])\n",
      "tensor([1, 0, 0, 0, 0, 0, 0, 0, 0, 0, 0, 0, 1, 0, 0, 0, 0, 0, 0, 0, 0, 0, 0, 0,\n",
      "        0, 0, 0, 0, 0, 0, 0, 0, 0, 0, 0, 0, 0, 0, 0, 0, 0, 0, 0, 0, 0, 0])\n",
      "tensor([1, 0, 0, 0, 0, 0, 0, 0, 0, 0, 0, 0, 1, 0, 0, 0, 0, 0, 0, 0, 0, 0, 0, 0,\n",
      "        0, 0, 0, 0, 0, 0, 0, 0, 0, 0, 0, 0, 0, 0, 0, 0, 0, 0, 0, 0, 0, 0])\n",
      "tensor([1, 1, 0, 1, 0, 0, 0, 0, 0, 0, 0, 0, 0, 0, 0, 0, 0, 0, 0, 0, 0, 0, 0, 0,\n",
      "        0, 0, 0, 0, 0, 0, 0, 0, 0, 0, 0, 0, 0, 0, 0, 0, 0, 0, 0, 0, 0, 0])\n",
      "tensor([1, 0, 0, 0, 0, 0, 0, 0, 0, 0, 0, 0, 0, 0, 0, 0, 0, 0, 0, 0, 0, 1, 0, 0,\n",
      "        0, 0, 0, 0, 0, 0, 0, 0, 0, 0, 0, 0, 0, 0, 0, 0, 0, 0, 0, 0, 0, 0])\n",
      "tensor([1, 1, 0, 0, 0, 0, 0, 0, 0, 0, 0, 0, 0, 0, 0, 0, 0, 0, 0, 0, 0, 0, 0, 0,\n",
      "        0, 0, 0, 0, 0, 0, 0, 0, 0, 0, 0, 0, 0, 0, 0, 0, 0, 0, 0, 0, 0, 0])\n",
      "tensor([1, 1, 0, 0, 0, 0, 0, 0, 0, 0, 0, 0, 0, 0, 0, 0, 0, 0, 0, 0, 0, 0, 0, 0,\n",
      "        0, 0, 0, 0, 0, 0, 0, 0, 0, 0, 0, 0, 0, 0, 0, 0, 0, 0, 0, 0, 0, 0])\n",
      "tensor([1, 1, 0, 0, 0, 0, 0, 0, 0, 0, 0, 0, 0, 0, 0, 0, 0, 0, 0, 0, 0, 0, 0, 0,\n",
      "        0, 0, 0, 0, 0, 0, 0, 0, 0, 0, 0, 0, 0, 0, 0, 0, 0, 0, 0, 0, 0, 0])\n",
      "tensor([1, 1, 0, 0, 0, 0, 0, 0, 0, 0, 0, 0, 0, 0, 0, 0, 0, 0, 0, 0, 0, 0, 0, 0,\n",
      "        0, 0, 0, 0, 0, 0, 0, 0, 0, 0, 0, 0, 0, 0, 0, 0, 0, 0, 0, 0, 0, 0])\n",
      "tensor([1, 0, 0, 1, 0, 0, 0, 0, 0, 0, 0, 0, 0, 0, 0, 0, 0, 0, 0, 0, 0, 0, 0, 0,\n",
      "        0, 0, 0, 0, 0, 0, 0, 0, 0, 0, 0, 0, 0, 0, 0, 0, 0, 0, 0, 0, 0, 0])\n",
      "tensor([1, 0, 0, 1, 0, 0, 1, 0, 0, 0, 0, 0, 0, 0, 0, 0, 0, 0, 0, 0, 0, 0, 0, 0,\n",
      "        0, 0, 0, 0, 0, 0, 0, 0, 0, 0, 0, 0, 0, 0, 0, 0, 0, 0, 0, 0, 0, 0])\n",
      "tensor([1, 1, 0, 0, 0, 0, 0, 0, 0, 1, 0, 0, 0, 0, 0, 0, 0, 0, 0, 0, 0, 0, 0, 0,\n",
      "        0, 0, 0, 0, 0, 0, 0, 0, 0, 0, 0, 0, 0, 0, 0, 0, 0, 0, 0, 0, 0, 0])\n",
      "tensor([1, 1, 0, 0, 0, 0, 0, 0, 0, 0, 0, 0, 0, 0, 0, 0, 0, 0, 0, 0, 0, 0, 0, 0,\n",
      "        0, 0, 0, 0, 0, 0, 0, 0, 0, 0, 0, 0, 0, 0, 0, 0, 0, 0, 0, 0, 0, 0])\n",
      "tensor([1, 1, 0, 0, 0, 0, 0, 0, 0, 0, 0, 0, 0, 0, 0, 0, 0, 0, 0, 0, 0, 0, 0, 0,\n",
      "        0, 0, 0, 0, 0, 0, 0, 0, 0, 0, 0, 0, 0, 0, 0, 0, 0, 0, 0, 0, 0, 0])\n",
      "tensor([1, 0, 0, 1, 0, 0, 0, 0, 0, 0, 0, 0, 0, 0, 0, 0, 0, 0, 0, 0, 0, 0, 0, 0,\n",
      "        0, 0, 0, 0, 0, 0, 0, 0, 0, 0, 0, 0, 0, 0, 0, 0, 0, 0, 0, 0, 0, 0])\n",
      "tensor([1, 0, 0, 1, 0, 0, 0, 0, 0, 0, 0, 0, 0, 0, 0, 0, 0, 0, 0, 0, 0, 0, 0, 0,\n",
      "        0, 0, 0, 0, 0, 0, 0, 0, 0, 0, 0, 0, 0, 0, 0, 0, 0, 0, 0, 0, 0, 0])\n",
      "tensor([1, 0, 0, 0, 0, 1, 0, 0, 0, 0, 0, 0, 1, 0, 0, 0, 0, 0, 0, 0, 0, 0, 0, 0,\n",
      "        0, 0, 0, 0, 0, 0, 0, 0, 0, 0, 0, 0, 0, 0, 0, 0, 0, 0, 0, 0, 0, 0])\n",
      "tensor([1, 0, 0, 1, 0, 1, 0, 0, 0, 0, 0, 0, 1, 0, 0, 0, 0, 0, 0, 0, 0, 0, 0, 0,\n",
      "        0, 0, 0, 0, 0, 0, 0, 0, 0, 0, 0, 0, 0, 0, 0, 0, 0, 0, 0, 0, 0, 0])\n",
      "tensor([1, 1, 0, 0, 0, 0, 0, 0, 0, 0, 0, 0, 0, 0, 0, 0, 0, 0, 0, 0, 0, 0, 0, 0,\n",
      "        0, 0, 0, 0, 0, 0, 0, 0, 0, 0, 0, 0, 0, 0, 0, 0, 0, 0, 0, 0, 0, 0])\n",
      "tensor([1, 1, 0, 0, 0, 0, 0, 0, 0, 0, 0, 0, 0, 0, 0, 0, 0, 0, 0, 0, 0, 0, 0, 0,\n",
      "        0, 0, 0, 0, 0, 0, 0, 0, 0, 0, 0, 0, 0, 0, 0, 0, 0, 0, 0, 0, 0, 0])\n",
      "tensor([1, 0, 0, 0, 1, 0, 0, 0, 0, 0, 0, 0, 0, 0, 0, 0, 0, 0, 0, 0, 0, 0, 0, 0,\n",
      "        0, 0, 0, 0, 0, 0, 0, 0, 0, 0, 0, 0, 0, 0, 0, 0, 0, 0, 0, 0, 0, 0])\n",
      "tensor([1, 0, 0, 1, 1, 0, 0, 0, 0, 0, 0, 0, 0, 0, 0, 0, 0, 0, 0, 0, 0, 0, 0, 0,\n",
      "        0, 0, 0, 0, 0, 0, 0, 0, 0, 0, 0, 0, 0, 0, 0, 0, 0, 0, 0, 0, 0, 0])\n",
      "tensor([1, 0, 0, 0, 0, 0, 0, 0, 0, 0, 0, 1, 1, 0, 0, 0, 0, 0, 0, 0, 0, 0, 0, 0,\n",
      "        0, 0, 0, 0, 0, 0, 0, 0, 0, 0, 0, 0, 0, 0, 0, 0, 0, 0, 0, 0, 0, 0])\n",
      "tensor([1, 0, 0, 0, 0, 0, 0, 0, 0, 0, 0, 0, 1, 0, 0, 0, 0, 0, 0, 0, 0, 0, 0, 0,\n",
      "        0, 0, 0, 0, 0, 0, 0, 0, 0, 0, 0, 0, 0, 0, 0, 0, 0, 0, 0, 0, 0, 0])\n",
      "tensor([1, 0, 0, 0, 0, 0, 0, 0, 0, 0, 0, 0, 0, 0, 0, 0, 0, 1, 0, 0, 0, 0, 0, 0,\n",
      "        0, 0, 0, 0, 0, 0, 0, 0, 0, 0, 0, 0, 0, 0, 0, 0, 0, 0, 0, 0, 0, 0])\n",
      "tensor([1, 0, 0, 0, 0, 0, 0, 0, 0, 0, 0, 0, 0, 0, 0, 0, 0, 1, 0, 0, 0, 0, 0, 0,\n",
      "        0, 0, 0, 0, 0, 0, 0, 0, 0, 0, 0, 0, 0, 0, 0, 0, 0, 0, 0, 0, 0, 0])\n",
      "tensor([1, 0, 0, 0, 0, 0, 0, 0, 0, 0, 1, 0, 0, 0, 0, 0, 1, 0, 0, 0, 0, 0, 0, 0,\n",
      "        0, 0, 0, 0, 0, 0, 0, 0, 0, 0, 0, 0, 0, 0, 0, 0, 0, 0, 0, 0, 0, 0])\n",
      "tensor([1, 0, 0, 0, 0, 0, 0, 0, 0, 0, 0, 0, 0, 1, 0, 0, 0, 0, 0, 0, 0, 0, 0, 0,\n",
      "        0, 0, 0, 0, 0, 0, 0, 0, 0, 0, 0, 0, 0, 0, 0, 0, 0, 0, 0, 0, 0, 0])\n",
      "tensor([1, 1, 0, 0, 0, 0, 0, 0, 0, 1, 0, 0, 0, 0, 0, 0, 0, 0, 0, 0, 0, 0, 0, 0,\n",
      "        0, 0, 0, 0, 0, 0, 0, 0, 0, 0, 0, 0, 0, 0, 0, 0, 0, 0, 0, 0, 0, 0])\n",
      "tensor([1, 0, 0, 0, 0, 0, 0, 0, 0, 0, 0, 0, 0, 0, 0, 0, 0, 0, 0, 0, 0, 0, 0, 0,\n",
      "        0, 1, 0, 0, 0, 0, 0, 0, 0, 0, 0, 0, 0, 0, 0, 0, 0, 0, 0, 0, 0, 0])\n",
      "tensor([1, 1, 0, 0, 0, 0, 0, 0, 0, 0, 0, 0, 0, 0, 0, 0, 0, 0, 0, 0, 0, 0, 0, 0,\n",
      "        0, 0, 0, 0, 0, 0, 0, 0, 0, 0, 0, 0, 0, 0, 0, 0, 0, 0, 0, 0, 0, 0])\n",
      "tensor([1, 1, 0, 0, 0, 0, 0, 0, 0, 0, 0, 0, 0, 0, 0, 0, 0, 0, 0, 0, 0, 0, 0, 0,\n",
      "        0, 0, 0, 0, 0, 0, 0, 0, 0, 0, 0, 0, 0, 0, 0, 0, 0, 0, 0, 0, 0, 0])\n",
      "tensor([1, 0, 0, 1, 0, 0, 0, 0, 0, 0, 0, 0, 0, 0, 0, 0, 0, 0, 0, 0, 0, 0, 0, 0,\n",
      "        0, 0, 0, 0, 0, 0, 0, 0, 0, 0, 0, 0, 0, 0, 0, 0, 0, 0, 0, 0, 0, 0])\n",
      "tensor([1, 1, 0, 0, 0, 0, 0, 0, 0, 0, 0, 0, 0, 0, 0, 0, 0, 0, 0, 0, 0, 0, 0, 0,\n",
      "        0, 0, 0, 0, 0, 0, 0, 0, 0, 0, 0, 0, 0, 0, 0, 0, 0, 0, 0, 0, 0, 0])\n"
     ]
    }
   ],
   "source": [
    "for i in res['label']:\n",
    "    print(i)"
   ]
  },
  {
   "cell_type": "code",
   "execution_count": 104,
   "metadata": {},
   "outputs": [],
   "source": [
    "import torch.nn as nn\n",
    "import torch.nn.functional as F\n",
    "\n",
    "\n",
    "class Conv_NN(nn.Module):\n",
    "    def __init__(self):\n",
    "        super().__init__()\n",
    "        self.conv1 = nn.Conv2d(3, 6, 5)\n",
    "        self.pool = nn.MaxPool2d(2, 2)\n",
    "        self.conv2 = nn.Conv2d(6, 16, 5)\n",
    "        self.conv3 = nn.Conv2d(16, 16, 5)\n",
    "        self.fc1 = nn.Linear(41328, 1200)\n",
    "        self.fc2 = nn.Linear(1200, 840)\n",
    "        self.fc3 = nn.Linear(840, 230)\n",
    "        self.fc4 = nn.Linear(230, 46)\n",
    "        #self.sig = nn.Sigmoid()\n",
    "\n",
    "    def forward(self, x):\n",
    "        x = self.pool(F.relu(self.conv1(x)))\n",
    "        x = self.pool(F.relu(self.conv2(x)))\n",
    "        x = self.pool(F.relu(self.conv3(x)))\n",
    "        x = torch.flatten(x, 1) # flatten all dimensions except batch\n",
    "        x = F.relu(self.fc1(x))\n",
    "        x = F.relu(self.fc2(x))\n",
    "        x = F.relu(self.fc3(x))\n",
    "        x = F.sigmoid(self.fc4(x))\n",
    "        return x\n",
    "\n",
    "\n",
    "conv_model = Conv_NN()"
   ]
  },
  {
   "cell_type": "code",
   "execution_count": 105,
   "metadata": {},
   "outputs": [],
   "source": [
    "import torch.optim as optim\n",
    "\n",
    "loss_fn = nn.CrossEntropyLoss()\n",
    "optimizer = optim.SGD(conv_model.parameters(), lr=0.001, momentum=0.9)"
   ]
  },
  {
   "cell_type": "code",
   "execution_count": 108,
   "metadata": {},
   "outputs": [],
   "source": [
    "n = 20\n",
    "def train(dataloader, model, loss_fn, optimizer):\n",
    "    model.eval()\n",
    "    size = len(dataloader.dataset)\n",
    "    total_loss = 0.0\n",
    "    running_loss = 0.0\n",
    "    for i, data in enumerate(dataloader):\n",
    "        # get the inputs; data is a list of [inputs, labels]\n",
    "        inputs = data['image']\n",
    "        labels = data['label']\n",
    "        # zero the parameter gradients\n",
    "        optimizer.zero_grad()\n",
    "\n",
    "        # forward + backward + optimize\n",
    "        outputs = model(inputs)\n",
    "        loss = loss_fn(outputs, labels.type(torch.FloatTensor))\n",
    "        loss.backward()\n",
    "        optimizer.step()\n",
    "\n",
    "        # print statistics\n",
    "        running_loss += loss.item()\n",
    "        total_loss += loss.item()\n",
    "        if i % n == n-1:    # print every n mini-batches\n",
    "            print(f'{i + 1:5d} loss: {running_loss / n:.3f}')\n",
    "            running_loss = 0.0\n",
    "    \n",
    "    return total_loss/size"
   ]
  },
  {
   "cell_type": "code",
   "execution_count": 109,
   "metadata": {},
   "outputs": [
    {
     "name": "stdout",
     "output_type": "stream",
     "text": [
      "Epoch 1\n",
      "-------------------------------\n",
      "   20 loss: 7.696\n",
      "conv_loss:  0.11166648504634698\n",
      "Epoch 2\n",
      "-------------------------------\n",
      "   20 loss: 7.681\n",
      "conv_loss:  0.11143634840846062\n",
      "Epoch 3\n",
      "-------------------------------\n",
      "   20 loss: 7.664\n",
      "conv_loss:  0.11119029534359773\n",
      "Epoch 4\n",
      "-------------------------------\n",
      "   20 loss: 7.648\n",
      "conv_loss:  0.11094706493119398\n",
      "Epoch 5\n",
      "-------------------------------\n",
      "   20 loss: 7.631\n",
      "conv_loss:  0.11070459522306919\n",
      "Epoch 6\n",
      "-------------------------------\n",
      "   20 loss: 7.615\n",
      "conv_loss:  0.11045951520403226\n",
      "Epoch 7\n",
      "-------------------------------\n",
      "   20 loss: 7.598\n",
      "conv_loss:  0.11020406844715278\n",
      "Epoch 8\n",
      "-------------------------------\n",
      "   20 loss: 7.578\n",
      "conv_loss:  0.10990371406078339\n",
      "Epoch 9\n",
      "-------------------------------\n",
      "   20 loss: 7.549\n",
      "conv_loss:  0.10942454872032006\n",
      "Epoch 10\n",
      "-------------------------------\n",
      "   20 loss: 7.460\n",
      "conv_loss:  0.1076464306563139\n",
      "Epoch 11\n",
      "-------------------------------\n",
      "   20 loss: 7.053\n",
      "conv_loss:  0.10065884416302046\n",
      "Epoch 12\n",
      "-------------------------------\n",
      "   20 loss: 6.575\n",
      "conv_loss:  0.09495414302994808\n",
      "Epoch 13\n",
      "-------------------------------\n",
      "   20 loss: 6.561\n",
      "conv_loss:  0.09478751420974732\n",
      "Epoch 14\n",
      "-------------------------------\n",
      "   20 loss: 6.558\n",
      "conv_loss:  0.09473337934662898\n",
      "Epoch 15\n",
      "-------------------------------\n",
      "   20 loss: 6.554\n",
      "conv_loss:  0.09468810204416514\n",
      "Epoch 16\n",
      "-------------------------------\n",
      "   20 loss: 6.553\n",
      "conv_loss:  0.09467579020808141\n",
      "Epoch 17\n",
      "-------------------------------\n",
      "   20 loss: 6.554\n",
      "conv_loss:  0.09468253559122483\n"
     ]
    }
   ],
   "source": [
    "epochs = 40\n",
    "conv_model_loss = []\n",
    "for t in range(epochs):\n",
    "    print(f\"Epoch {t+1}\\n-------------------------------\")\n",
    "    conv_loss = train(train_loader, conv_model, loss_fn, optimizer)\n",
    "    print(\"conv_loss: \", conv_loss)\n",
    "    \n",
    "    if t > 3 and conv_loss > conv_model_loss[-1]:\n",
    "        break\n",
    "    \n",
    "    conv_model_loss.append(conv_loss)\n",
    "    torch.save(conv_model.state_dict(), \"conv_model.pth\")"
   ]
  },
  {
   "cell_type": "markdown",
   "metadata": {},
   "source": [
    "# Analysis\n",
    "- Plot loss/accuracy (y) with number of epochs ran (x)\n",
    "- Recall/Precision/F1 score "
   ]
  },
  {
   "cell_type": "code",
   "execution_count": null,
   "metadata": {},
   "outputs": [],
   "source": [
    "model = NeuralNetwork()\n",
    "model.load_state_dict(torch.load(\"model.pth\", weights_only=True))\n",
    "conv_model = Conv_NN()\n",
    "conv_model.load_state_dict(torch.load(\"conv_model.pth\", weights_only=True))"
   ]
  },
  {
   "cell_type": "code",
   "execution_count": 124,
   "metadata": {},
   "outputs": [],
   "source": [
    "def test(dataloader, model):\n",
    "    size = len(dataloader.dataset)\n",
    "    num_batches = len(dataloader)\n",
    "    model.eval()\n",
    "    correct = 0\n",
    "    correct_each = 0\n",
    "    with torch.no_grad():\n",
    "        for i, data in enumerate(dataloader):\n",
    "            # get the inputs; data is a list of [inputs, labels]\n",
    "            inputs = data['image']\n",
    "            labels = data['label']\n",
    "\n",
    "            preds = model(inputs)\n",
    "            for p_i in range(len(preds)):\n",
    "                for l_i in range(len(preds[p_i])):\n",
    "                    if preds[p_i][l_i] > 0.9:\n",
    "                        preds[p_i][l_i] = 1.0\n",
    "                    else:\n",
    "                        preds[p_i][l_i] = 0.0\n",
    "            # TODO: look at (preds == labels)\n",
    "            for row in (preds == labels):\n",
    "                all_correct = 1\n",
    "                for equal in row:\n",
    "                    if not equal:\n",
    "                        all_correct = 0\n",
    "                        break\n",
    "                correct += all_correct\n",
    "            correct_each += (preds == labels).type(torch.float).sum().item()/len(preds[0])\n",
    "            print(correct, correct_each)\n",
    "    \n",
    "    accuracy = correct/size\n",
    "    accuracy_each = correct_each/size\n",
    "    print(\"accuracy:\", accuracy)\n",
    "    print(\"accuracy_each:\", accuracy_each)"
   ]
  },
  {
   "cell_type": "code",
   "execution_count": 121,
   "metadata": {},
   "outputs": [],
   "source": [
    "test_dataset = MultiClassDataset(label_csv_file=TESTING_LABELS, image_directory=TESTING_DIRECTORY, transform=transform)\n",
    "test_loader = DataLoader(test_dataset, batch_size=64)"
   ]
  },
  {
   "cell_type": "code",
<<<<<<< Updated upstream
   "execution_count": 125,
=======
   "execution_count": null,
>>>>>>> Stashed changes
   "metadata": {},
   "outputs": [
    {
     "name": "stdout",
     "output_type": "stream",
     "text": [
      "Convolutional Model\n",
      "0 56.80434782608695\n",
      "0 114.32608695652173\n",
<<<<<<< Updated upstream
      "0 171.8478260869565\n",
      "0 229.54347826086956\n",
      "0 287.17391304347825\n",
      "0 344.5869565217391\n",
      "0 402.0652173913044\n",
      "0 458.9347826086957\n",
      "0 515.5434782608696\n",
      "0 572.7391304347826\n",
      "accuracy: 0.0\n",
      "accuracy_each: 0.8949048913043478\n"
=======
      "0 171.8478260869565\n"
>>>>>>> Stashed changes
     ]
    }
   ],
   "source": [
    "print(\"Convolutional Model\")\n",
    "test(test_loader, conv_model)"
   ]
  },
  {
   "cell_type": "code",
   "execution_count": 110,
   "metadata": {},
   "outputs": [
    {
     "data": {
      "image/png": "iVBORw0KGgoAAAANSUhEUgAAAlIAAAHFCAYAAAA5VBcVAAAAOXRFWHRTb2Z0d2FyZQBNYXRwbG90bGliIHZlcnNpb24zLjcuMSwgaHR0cHM6Ly9tYXRwbG90bGliLm9yZy/bCgiHAAAACXBIWXMAAA9hAAAPYQGoP6dpAABlZUlEQVR4nO3de1xUZf4H8M/MwMxwHeQOyk1EEfEKLoH3SpTK1C5Slpdum5tuImuaYptZSbpb2k3LXddyu2j707TUWjGT1SAzBO8pKggiyEVgAGWAmfP7A2dyBJQZgTMDn/frNS+YZ55z5nuGgo/Pec5zJIIgCCAiIiIik0nFLoCIiIjIWjFIEREREZmJQYqIiIjITAxSRERERGZikCIiIiIyE4MUERERkZkYpIiIiIjMxCBFREREZCYGKSIiIiIzMUgRkdWZOXMmAgMDzdo2LS0NS5cuRUVFRZPXRo8ejdGjR99RbW0lNzcXEokEn3zyidil3FZgYCBmzpxp1rYSiQRLly5t03qIOpKN2AUQEXWktLQ0vPbaa5g5cyZcXFyMXluzZo04RRGR1WKQIiK6LiwsTOwSiMjK8NQeURfz22+/4fHHH4eXlxcUCgX8/f0xffp0aDQaQ5/jx49j4sSJ6NatG5RKJQYNGoRPP/3UaD/79u2DRCLBl19+iaSkJPj6+sLZ2Rn33nsvTp8+beiXkJAABwcHqNXqJrXEx8fDy8sL9fX1AACdToeVK1ciNDQUCoUCnp6emD59Oi5evHjLY7rVabAbTx0tXboUL730EgAgKCgIEokEEokE+/btA9D8qb0rV67ghRdeQPfu3SGXy9GzZ08kJSUZfV7695kzZw7+/e9/o2/fvrC3t8fAgQOxY8cOo35nz57FU089hZCQENjb26N79+6YMGECjh07dstjbIn+5/DFF19g4cKF8PHxgaOjIyZMmIDLly+jqqoKf/zjH+Hu7g53d3c89dRTqK6uNtpHbW0tFi1ahKCgIMjlcnTv3h2zZ89ucvqzvr4eCxYsgLe3N+zt7TF8+HD88ssvzdZVVFSE559/Hj169IBcLkdQUBBee+01NDQ0mHWcRJaKI1JEXciRI0cwfPhwuLu7Y9myZQgJCUFhYSG++eYb1NXVQaFQ4PTp04iJiYGnpyfee+89uLm54bPPPsPMmTNx+fJlLFiwwGifixcvxrBhw/DPf/4TarUaCxcuxIQJE3Dq1CnIZDI8/fTTePfdd/HVV1/h2WefNWxXUVGB7du3Y/bs2bC1tQUA/OlPf8K6deswZ84cPPDAA8jNzcUrr7yCffv24fDhw3B3d7+j43/22Wdx5coVvP/++9i6dSt8fHwAtDwSVVtbizFjxuDcuXN47bXXMGDAAOzfvx/JycnIysrCzp07jfrv3LkThw4dwrJly+Do6IiVK1di8uTJOH36NHr27AkAuHTpEtzc3PDWW2/Bw8MDV65cwaeffoqoqChkZmaiT58+Zh3b4sWLMWbMGHzyySfIzc3F/Pnz8fjjj8PGxgYDBw7El19+iczMTCxevBhOTk547733AACCIGDSpEn44YcfsGjRIowYMQJHjx7Fq6++ivT0dKSnp0OhUAAAnnvuOWzcuBHz58/H2LFjcfz4cTz00EOoqqoyqqWoqAh/+MMfIJVK8de//hXBwcFIT0/HG2+8gdzcXGzYsMGsYySySAIRdRl333234OLiIhQXF7fY57HHHhMUCoWQl5dn1B4XFyfY29sLFRUVgiAIwo8//igAEO677z6jfl999ZUAQEhPTze0DRkyRIiJiTHqt2bNGgGAcOzYMUEQBOHUqVMCAOGFF14w6nfw4EEBgLB48WJD24wZM4SAgADD85ycHAGAsGHDhibHA0B49dVXDc//9re/CQCEnJycJn1HjRoljBo1yvD8o48+EgAIX331lVG/FStWCACE3bt3G72Pl5eXoFarDW1FRUWCVCoVkpOTm7yXXkNDg1BXVyeEhIQI8+bNa9Ux3Uj/c5gwYYJRe0JCggBAePHFF43aJ02aJLi6uhqef//99wIAYeXKlUb9Nm/eLAAQ1q1bJwjC7z+fG2sUBEH4/PPPBQDCjBkzDG3PP/+84OjoKFy4cMGo79///ncBgHDixAlD280/HyJrw1N7RF3E1atXkZqaiilTpsDDw6PFfnv37sU999wDPz8/o/aZM2fi6tWrSE9PN2p/8MEHjZ4PGDAAAHDhwgVD21NPPYW0tDSjU34bNmzA0KFDER4eDgD48ccfDe9zoz/84Q/o27cvfvjhh1YeadvZu3cvHBwc8Mgjjxi162u8uaYxY8bAycnJ8NzLywuenp5Gn0VDQwOWL1+OsLAwyOVy2NjYQC6XIzs7G6dOnTK71gceeMDoed++fQEA999/f5P2K1euGE7v7d271+iY9B599FE4ODgYjlH/83niiSeM+k2ZMgU2NsYnN3bs2IExY8bA19cXDQ0NhkdcXBwAIDU11dzDJLI4DFJEXUR5eTm0Wi169Ohxy35lZWWGU1438vX1Nbx+Izc3N6Pn+tNA165dM7Q98cQTUCgUhjlMJ0+exKFDh/DUU08ZvS+AFt/75vftCGVlZfD29oZEIjFq9/T0hI2NzW0/C6Dx87jxs0hMTMQrr7yCSZMm4dtvv8XBgwdx6NAhDBw40KifqVxdXY2ey+XyW7bX1tYCaDxGGxubJuFaIpHA29vbcIz6r97e3kb9bGxsmhz35cuX8e2338LW1tbo0a9fPwBAaWmp2cdJZGk4R4qoi3B1dYVMJrvtxG03NzcUFhY2ab906RIAmDVPqVu3bpg4cSI2btyIN954Axs2bIBSqcTjjz9u9L4AUFhY2CTsXbp06Zbvq1QqAaDJBPA7DV9ubm44ePAgBEEwClPFxcVoaGgw67P47LPPMH36dCxfvtyovbS0tMlyDB3Bzc0NDQ0NKCkpMQpTgiCgqKgIQ4cONfQDGuc/de/e3dCvoaGhyefs7u6OAQMG4M0332z2PfWhnKgz4IgUURdhZ2eHUaNG4T//+c8tRwTuuece7N271xCc9DZu3Ah7e3vcddddZr3/U089hUuXLmHXrl347LPPMHnyZKPgcPfddwNoDBo3OnToEE6dOoV77rmnxX17eXlBqVTi6NGjRu3bt29v0re5EbOW3HPPPaiursa2bduM2jdu3Gh43VQSicRQg97OnTtRUFBg8r7agv4Ybv7ct2zZgpqaGsPr+qsZP//8c6N+X331VZMr8R544AEcP34cwcHBiIyMbPJgkKLOhCNSRF3IO++8g+HDhyMqKgovv/wyevXqhcuXL+Obb77Bxx9/DCcnJ7z66quGOS5//etf4erqis8//xw7d+7EypUroVKpzHrv2NhY9OjRAy+88AKKioqMTusBQJ8+ffDHP/4R77//PqRSKeLi4gxX7fn5+WHevHkt7lsikeDJJ5/Ev/71LwQHB2PgwIH45Zdf8MUXXzTp279/fwDAu+++ixkzZsDW1hZ9+vQxmtukN336dHz44YeYMWMGcnNz0b9/fxw4cADLly/Hfffdh3vvvdfkz+GBBx7AJ598gtDQUAwYMAAZGRn429/+dttTru1l7NixGDduHBYuXAi1Wo1hw4YZrtobPHgwpk2bBqBxbtWTTz6J1atXw9bWFvfeey+OHz+Ov//973B2djba57Jly5CSkoKYmBi8+OKL6NOnD2pra5Gbm4tdu3bho48+Eu14idqc2LPdiahjnTx5Unj00UcFNzc3QS6XC/7+/sLMmTOF2tpaQ59jx44JEyZMEFQqlSCXy4WBAwc2uXpMf7XYf/7zH6P2W11ttnjxYgGA4OfnJ2i12iava7VaYcWKFULv3r0FW1tbwd3dXXjyySeF/Px8o343X7UnCIJQWVkpPPvss4KXl5fg4OAgTJgwQcjNzW32qrBFixYJvr6+glQqFQAIP/74oyAITa/aEwRBKCsrE2bNmiX4+PgINjY2QkBAgLBo0SKjz0sQGq8+mz17dpNjCggIMLqirby8XHjmmWcET09Pwd7eXhg+fLiwf//+Ju9t6lV7N/8cNmzYIAAQDh06ZNT+6quvCgCEkpISQ9u1a9eEhQsXCgEBAYKtra3g4+Mj/OlPfxLKy8uNttVoNMJf/vIXwdPTU1AqlcJdd90lpKenNzlGQRCEkpIS4cUXXxSCgoIEW1tbwdXVVYiIiBCSkpKE6upqo8+NV+2RNZMIgiCIlOGIiIiIrBrnSBERERGZiUGKiIiIyEwMUkRERERmEj1IrVmzBkFBQVAqlYiIiMD+/ftb7FtYWIipU6eiT58+kEqlSEhIaNLnxIkTePjhhxEYGAiJRILVq1c36ZOcnIyhQ4fCyckJnp6emDRpktGKy0DjKr/6G5rqH+Ze9k1ERESdk6hBavPmzUhISEBSUhIyMzMxYsQIxMXFIS8vr9n+Go0GHh4eSEpKwsCBA5vtc/XqVfTs2RNvvfVWkxV49VJTUzF79mz8/PPPSElJQUNDA2JjY1FTU2PUb/z48SgsLDQ8du3adWcHTERERJ2KqFftRUVFYciQIVi7dq2hrW/fvpg0aRKSk5Nvue3o0aMxaNCgZkec9AIDA5GQkNDsyNWNSkpK4OnpidTUVIwcORJA44hURUVFk4X4iIiIiPREW5Czrq4OGRkZePnll43aY2NjkZaW1qG1VFZWAmh6T6p9+/bB09MTLi4uGDVqFN588014enq2uB+NRmN0iwqdTocrV67Azc2tyb26iIiIyDIJgoCqqir4+vpCKr31yTvRglRpaSm0Wi28vLyM2r28vFBUVNRhdQiCgMTERAwfPtxwF3oAiIuLw6OPPoqAgADk5OTglVdewd13342MjIwmt3fQS05OxmuvvdZRpRMREVE7ys/Pv+0q/KLfIubmkRrhppuDtrc5c+bg6NGjOHDggFF7fHy84fvw8HBERkYiICAAO3fuxEMPPdTsvhYtWoTExETD88rKSvj7+yM/P7/JLRSIiIjIMqnVavj5+TV766ibiRak3N3dIZPJmow+FRcXNxmlai9//vOf8c033+B///vfbROnj48PAgICkJ2d3WIfhULR7GiVs7MzgxQREZGVac3AjmhX7cnlckRERCAlJcWoXX+jy/YkCALmzJmDrVu3Yu/evQgKCrrtNmVlZcjPz4ePj0+71kZERETWQ9RTe4mJiZg2bRoiIyMRHR2NdevWIS8vD7NmzQLQeKqsoKAAGzduNGyTlZUFAKiurkZJSQmysrIgl8sRFhYGoHES+8mTJw3fFxQUICsrC46OjujVqxcAYPbs2fjiiy+wfft2ODk5GUbFVCoV7OzsUF1djaVLl+Lhhx+Gj48PcnNzsXjxYri7u2Py5Mkd9fEQERGRhRP9psVr1qzBypUrUVhYiPDwcKxatcpoCYLc3Fzs27fP0L+5YbaAgADk5uYCAHJzc5sdYRo1apRhPy0N1W3YsAEzZ87EtWvXMGnSJGRmZqKiogI+Pj4YM2YMXn/9dfj5+bX62NRqNVQqFSorK3lqj4iIyEqY8vdb9CDVmTFIERERWR9T/n6LfosYIiIiImvFIEVERERkJgYpIiIiIjMxSBERERGZiUGKiIiIyEwMUkRERERmYpAiIiIiMhODFBEREZGZGKSs0JWaOuSU1qBBqxO7FCIioi5N1HvtkXm+PXIJr35zArYyCfxd7dHTwxE93R3Q08PB8L2rg7xVd60mIiIi8zFIWaFqTQOUtlLU1utwrqQG50pqmvRxVto0hioPh+shq/H7QDcHKG1lIlRNRETU+fBee+2oPe+1p9MJKFTX4nxJNXJKa3C+pAbnSqpxvqQGlyqvoaWfqkQC+Krs0NPDAcHXw1XQ9aDl46yEVMpRLCIi6tp402ILIdZNi2vrtcgtawxX56+Hq/Oljd+raxta3E5pK0WQ+42nCR3Q090RQR4OcFbadlj9REREYjLl7zdP7XVCSlsZQr2dEept/MMXBAFlNXU4X1KDnNLq66NYNThfWo28squordfhVKEapwrVTfbp7qi4PorVOJLVy7Px4auy4ygWERF1WRyRakdijUiZo0GrQ375tSYjWOdLa1BSpWlxO3u5DMEejgjxdESwZ+PXXp6O8He1h42MF4USEZH14ak9C2FNQepW1LX1yL1hHta5kmpkX65GblkN6rXN/+cjl0kR5O5gGLnq5emIEC9HBLk7QGHDye5ERGS5GKQsRGcJUi2p1+pwoewqzhZX42xxVePXkmqcLa5GbX3za1xJJUCAW+PpwRAvR/S64TShg4JnmomISHwMUhaiswepluh0Agoqrl0PWNXIvh6ysourUXWLye6+KiV6eTmhlz5keTYGrW4O8g6snoiIujoGKQvRVYNUSwRBQEmVxhCqfg9a1Sitbnkelruj3GiCu/7h7azkoqNERNTmGKQsBINU61VcrTMKVvrvCyqutbiNo8Km8SpCz99HrzjRnYiI7hSDlIVgkLpzNZoGnC+pMZwe1M/DulB2FVpdyxPdA93tDeFKH7SCPRy5qjsREd0W15GiTsNBYYP+PVTo30Nl1F7XoMOFshqjcHW2uPGKwtp6Hc5crsaZy9VG20gkQI9udoaRqxtPF7rYcx4WERGZjiNS7YgjUh3PMNG9pBrnbjhFeLakGhVX61vcjvOwiIhIj6f2LASDlOXQr+p+9oZwde76KFZhZW2L2904D+vGoBXAeVhERJ0Wg5SFYJCyDtWaBpy7IVi1Zh6WrUyCQDeHJqcIe3o4wF7OM+ZERNaMc6SITOCosMFAPxcM9HMxam9pHtb5khpcq9ci+/oVhjfr7mLXJGD18nSEK9fDIiLqdDgi1Y44ItU56XQCLlVea3KK8FxJDa7U1LW4nauDHMEeTUexeONnIiLLwlN7FoJBquu50sI8rFuth2VnK0PP6wHLcEWhpyMC3Rwgt+E8LCKijsYgZSEYpEjval3jelhnb5qLdasbP8ukEgS42RvCVeO9CZ0Q7Ml5WERE7YlBykIwSNHt1Gt1yLtytXGpBv0pwushq6ZO2+J2+nlY+kcI18MiImozDFIWgkGKzCUIAorUtY23zLlsHLLKbjEPS78eVuPolSN6eTohxMsRnk4KrodFRNRKDFIWgkGK2sON87D0t845V1yNS7dYD8tJYWO4VU7IDSNZPbrZQ8aJ7kRERhikLASDFHUk/XpY+qUasi83zse6UFaDFpbDgsJGip76Kwivj2SFeDoi0N0BtlxwlIi6KAYpC8EgRZZA06BFTmmN0dWEZ4urcb60BnUNuma3sZVJEOTugBAvJ/T2dEJvL0eEeDkh0I0ruhNR58cgZSEYpMiSaXUC8q9cvX6KUB+wqm450V0uk6Knhz5gNYar3l6OCHBz4ClCIuo0GKQsBIMUWSP9gqPZl6tx5nIVzlxunIuVfbka1+pbCFg2UgR7OKK3lyN6ezkhxLPxq58r52ARkfVhkLIQDFLUmeh0Agoqrv0eri5X4cz1Eaza+uZPESpspOh1PVSFeDleP03ohB7duJo7EVkuBikLwSBFXYFWJ+Bi+VWcuT6ClX09aJ0tqW5xDpadrcywyGjv66cHQ72d4aNScpkGIhIdg5SFYJCirkyrE5B35apRuDpzuQrnS2pQp20+YLk5yBHeXYXw7s7o312Ffr4q9Ohmx3BFRB3KlL/fol9+s2bNGgQFBUGpVCIiIgL79+9vsW9hYSGmTp2KPn36QCqVIiEhoUmfEydO4OGHH0ZgYCAkEglWr15t1vsKgoClS5fC19cXdnZ2GD16NE6cOHEnh0rUpcikjVf+jevnjTl3h+C9xwfj+4SROLlsHH74yyh89OQQJI7tjQcG+KC3lyNkUgnKauqQeqYEH/54DrM+O4wRK3/EkNdTMG39Qbz13W/YebQQF8pqwH//EZGlEPWGXZs3b0ZCQgLWrFmDYcOG4eOPP0ZcXBxOnjwJf3//Jv01Gg08PDyQlJSEVatWNbvPq1evomfPnnj00Ucxb948s9935cqVeOedd/DJJ5+gd+/eeOONNzB27FicPn0aTk5ObfchEHUxNrLGienBHo4YH/57e229Fr8VVeFYQSWOX6zE8UuVOHO5CuVX67E/uxT7s0sNfZ2VNtdHrq4/fJ0R6ObAeVdE1OFEPbUXFRWFIUOGYO3atYa2vn37YtKkSUhOTr7ltqNHj8agQYNaHHECgMDAQCQkJDQZubrd+wqCAF9fXyQkJGDhwoUAGkOcl5cXVqxYgeeff75Vx8dTe0R3RtOgxZmi6sZwdakSxwsq8VthVbOnBp0UNgjzdUZ4dxX6Xz89GOTuyKsGichkpvz9Fm1Eqq6uDhkZGXj55ZeN2mNjY5GWlibq++bk5KCoqAixsbGG1xUKBUaNGoW0tLQWg5RGo4FGozE8V6vV7XAERF2HwkaG/j1U6N9DZWira9Ahu7gKxwsqcbxAjWMFlThVqEaVpgEHc67gYM4VQ197uQz9fJ3Rz1cfrlQI9nDgoqJE1GZEC1KlpaXQarXw8vIyavfy8kJRUZGo76v/2lyfCxcutLjv5ORkvPbaa21cMRHdSG4jRT/fxono8UMb2xq0Opwtqcaxi5U4cakxXJ28pMbVOi0O5ZbjUG65YXulrRRhPs6G04KRAd3Q08NRpKMhImsn6hwpAE2uxhEEoUOu0GnN+5pa26JFi5CYmGh4rlar4efn1wbVEtGt2MikCPV2Rqi3Mx693qbVCThfcv20YIEaxwsqceJSJWrqtDicV4HDeRWG7YM9GifFx/bzxsAeKl4lSEStJlqQcnd3h0wmazL6VFxc3GQkqKPf19vbG0DjyJSPj0+ra1MoFFAoFO1QNRGZSiaVIMTLCSFeTnhoSGObTicgp6zm+mnBShy9WInDeeU4V1KDNfvOYc2+c/B2ViK2nxfG9fPGH4JcefNmIrol0YKUXC5HREQEUlJSMHnyZEN7SkoKJk6cKOr7BgUFwdvbGykpKRg8eDCAxrlVqampWLFiRbvVRkTtSyqVGK4YnDioOwBAXVuPH38rxu4Tl7HvdDGK1LXYmH4BG9MvQGVni3tCPRHbzxsje7vDXi76ID4RWRhRfyskJiZi2rRpiIyMRHR0NNatW4e8vDzMmjULQOOpsoKCAmzcuNGwTVZWFgCguroaJSUlyMrKglwuR1hYGIDGwHPy5EnD9wUFBcjKyoKjoyN69erVqveVSCRISEjA8uXLERISgpCQECxfvhz29vaYOnVqR308RNQBnJW2mDioOyYO6o7aei3SzpXiv8cvY8+pyyirqcPWzAJszSyA0laKESEeGNfPG/eEeqKbg1zs0onIAoi+svmaNWuwcuVKFBYWIjw8HKtWrcLIkSMBADNnzkRubi727dtn6N/c3IWAgADk5uYCAHJzcxEUFNSkz6hRo4z2c6v3BRrnQ7322mv4+OOPUV5ejqioKHz44YcIDw9vsu+WcPkDIuul1QnIuFCO/54own9PFOFi+TXDazKpBH8IdMW4fl6I7ecNXxc7ESslorbGW8RYCAYpos5BEAScKqwyhKrfiqqMXu/fXYVx1+dV9fJ05GR1IivHIGUhGKSIOqe8sqvYfbIxVP16oRw3/hbt6e6AsddD1aAeLlxtncgKMUhZCAYpos6vtFqDPScv478nivDT2TKjVdc9nRQYG9YYqu7q6Qa5Da8AJLIGDFIWgkGKqGup1jRg3+li/PfEZfz4WzGqNQ2G15yUNoYrAEf19oCDglcAElkqBikLwSBF1HVpGrRIP1eG/564jJSTl1Fa/fvto+Q2Ujw40BdvTg6HwkYmYpVE1BwGKQvBIEVEQONCoJn55fjvicZTgBfKrgIAJg/ujnemDOTkdCILwyBlIRikiOhmgiDgh1PFeP6zDGh1Aubd2xtz7w0RuywiuoEpf78585GIqANJJBLcG+aF1yc2rkm3as8ZbM8qELkqIjIXgxQRkQimRvnjjyN7AgBe+s9R/Jp7ReSKiMgcDFJERCJ5eXwoxvXzQp1Whz/+OwMXymrELomITMQgRUQkEqlUgtXxgzGghwpXaurw1CeHUHm1XuyyiMgEDFJERCKyk8vwz+mR8FUpcb6kBs9/9ivqGnS335CILAKDFBGRyDydlVg/cygcFTb4+fwVLP76GHhBNZF1YJAiIrIAfX2c8f7UwZBKgP/LuIg1+86JXRIRtQKDFBGRhRjTxxOvPdgPAPC3/57Gt0cuiVwREd0OgxQRkQWZFh2Ip4cFAQD+8p8jyLhQLnJFRHQrDFJERBYm6f6+uLevF+oadPjjxl+Rf+Wq2CURUQsYpIiILIxMKsG7jw1CP19nlOmXRbjGZRGILBGDFBGRBXJQ2GD9jKHwdlbibHE1Xvg8A/VaLotAZGkYpIiILJS3Son1MyNhL5fhp7NleGXbcS6LQGRhGKSIiCxYP18V3n+8cVmETYfy8fH/zotdEhHdgEGKiMjC3dPXC688EAYAeOu73/DdsUKRKyIiPQYpIiIr8NSwIMyIDgAAJGzOQlZ+hbgFEREABikiIqvxygNhGNPHA5oGHZ799FdcLOeyCERiY5AiIrISNjIp3p86BKHeTiit1uCZT36FupbLIhCJiUGKiMiKOCps8K+ZQ+HppMDpy1WY80UmGrgsApFoGKSIiKyMr4sd1s8YCjtbGf53pgSvfnOCyyIQiYRBiojICvXvocK7jw2CRAJ8fjAP6w/kiF0SUZfEIEVEZKVi+3kj6b6+AIA3d53Cf08UiVwRUdfDIEVEZMWeGR6EJ6L8IQhAwqYsHLtYKXZJRF0KgxQRkRWTSCR47cF+GBHijmv1Wjzz6SFcqrgmdllEXQaDFBGRlbORSfHhE0PQ28sRxVUaPP3JIVRrGsQui6hLYJAiIuoEnJW2+NfMoXB3VOC3oir8+YvDXBaBqAMwSBERdRI9utnjnzMiobSV4sfTJXh9x0mxSyLq9BikiIg6kUF+Llg1ZRAA4NP0C9jwE5dFIGpPDFJERJ1MXH8fvBwXCgB4fcdJ/HDqssgVEXVeDFJERJ3Q8yN74rGhftAJwJ+/zMSJS1wWgag9MEgREXVCEokEr08Kx7Bebrhap8Uzn/yKospascsi6nQYpIiIOilbmRRrnohAL09HFKlr8cynh1DDZRGI2pToQWrNmjUICgqCUqlEREQE9u/f32LfwsJCTJ06FX369IFUKkVCQkKz/bZs2YKwsDAoFAqEhYXh66+/Nno9MDAQEomkyWP27NmGPjNnzmzy+l133dUmx0xE1FFUdrbYMHMo3BzkOHFJjbmbsniDY6I2JGqQ2rx5MxISEpCUlITMzEyMGDECcXFxyMvLa7a/RqOBh4cHkpKSMHDgwGb7pKenIz4+HtOmTcORI0cwbdo0TJkyBQcPHjT0OXToEAoLCw2PlJQUAMCjjz5qtK/x48cb9du1a1cbHTkRUcfxc7XHuumRkMuk2HPqMo4XqMUuiajTkAgi/tMkKioKQ4YMwdq1aw1tffv2xaRJk5CcnHzLbUePHo1BgwZh9erVRu3x8fFQq9X47rvvDG3jx49Ht27d8OWXXza7r4SEBOzYsQPZ2dmQSCQAGkekKioqsG3bNvMODoBarYZKpUJlZSWcnZ3N3g8RUVuY8a9fkHqmBMsm9sP06ECxyyGyWKb8/RZtRKqurg4ZGRmIjY01ao+NjUVaWprZ+01PT2+yz3HjxrW4z7q6Onz22Wd4+umnDSFKb9++ffD09ETv3r3x3HPPobi4+JbvrdFooFarjR5ERJZisL8LACAzr0LUOog6E9GCVGlpKbRaLby8vIzavby8UFRUZPZ+i4qKTNrntm3bUFFRgZkzZxq1x8XF4fPPP8fevXvx9ttv49ChQ7j77ruh0WhafO/k5GSoVCrDw8/Pz+zjICJqa4P8XAAAWfkVotZB1JnYiF3AzaNAgiA0aWvPfa5fvx5xcXHw9fU1ao+Pjzd8Hx4ejsjISAQEBGDnzp146KGHmt3XokWLkJiYaHiuVqsZpojIYuiDVE5pDcpr6tDNQS5uQUSdgGhByt3dHTKZrMlIUXFxcZMRJVN4e3u3ep8XLlzAnj17sHXr1tvu18fHBwEBAcjOzm6xj0KhgEKhML1oIqIO4GIvR08PB5wvqUFWfgXGhHqKXRKR1RPt1J5cLkdERIThijm9lJQUxMTEmL3f6OjoJvvcvXt3s/vcsGEDPD09cf/99992v2VlZcjPz4ePj4/ZtRERiU0/KpWZVy5uIUSdhKin9hITEzFt2jRERkYiOjoa69atQ15eHmbNmgWg8VRZQUEBNm7caNgmKysLAFBdXY2SkhJkZWVBLpcjLCwMADB37lyMHDkSK1aswMSJE7F9+3bs2bMHBw4cMHpvnU6HDRs2YMaMGbCxMf4YqqursXTpUjz88MPw8fFBbm4uFi9eDHd3d0yePLkdPxEiovY12L8bth4uQCbnSRG1CVGDVHx8PMrKyrBs2TIUFhYiPDwcu3btQkBAAIDGBThvXlNq8ODBhu8zMjLwxRdfICAgALm5uQCAmJgYbNq0CUuWLMErr7yC4OBgbN68GVFRUUb72bNnD/Ly8vD00083qUsmk+HYsWPYuHEjKioq4OPjgzFjxmDz5s1wcnJq40+BiKjjDL5hwrlOJ0AqvbM5qURdnajrSHV2XEeKiCxNg1aH8KX/RW29DnsSR6KXJ/9xSHQzq1hHioiIOp6NTIoB3V0AcD0porbAIEVE1MUYFubkPCmiO8YgRUTUxfx+5V6FqHUQdQYMUkREXcxg/24AgNNFalytaxC5GiLrxiBFRNTFeKuU8FEpoROAoxcrxS6HyKoxSBERdUG8gTFR22CQIiLqgn6/gTFXOCe6EwxSRERdkH6e1OG8CnA5QSLzMUgREXVB4b4q2EglKKnS4FJlrdjlEFktBikioi7ITi5DqE/jquZZnCdFZDYGKSKiLmqwX+Ppvcw8zpMiMheDFBFRF8UVzonuHIMUEVEXpb9y71hBJeoadOIWQ2SlGKSIiLqoIHcHqOxsUdegw29FarHLIbJKDFJERF2URCLhwpxEd4hBioioC+OEc6I7Y2PqBlqtFp988gl++OEHFBcXQ6czPq++d+/eNiuOiIja16DrI1JZnHBOZBaTg9TcuXPxySef4P7770d4eDgkEkl71EVERB1gUA8XAEBu2VVcqamDq4Nc3IKIrIzJQWrTpk346quvcN9997VHPURE1IFU9rYI9nDAuZIaZOWX4+5QL7FLIrIqJs+Rksvl6NWrV3vUQkREIhh0fZ4UVzgnMp3JQeovf/kL3n33Xd7kkoiok+DCnETma9WpvYceesjo+d69e/Hdd9+hX79+sLW1NXpt69atbVcdERG1O32QysqrgE4nQCrl3Fei1mpVkFKpVEbPJ0+e3C7FEBFRx+vj5QQ7WxmqNA04X1qNXp5OYpdEZDVaFaQ2bNjQ3nUQEZFIbGRS9O+hwi85V3A4r4JBisgEJs+RysnJQXZ2dpP27Oxs5ObmtkVNRETUwbjCOZF5TA5SM2fORFpaWpP2gwcPYubMmW1RExERdbDB129gzBXOiUxjcpDKzMzEsGHDmrTfddddyMrKaouaiIiogw32b1wC4czlKtRoGkSuhsh6mBykJBIJqqqqmrRXVlZCq9W2SVFERNSxvJyV8FUpoROAoxcrxS6HyGqYHKRGjBiB5ORko9Ck1WqRnJyM4cOHt2lxRETUcfSjUpn5PL1H1Fom3yJm5cqVGDlyJPr06YMRI0YAAPbv3w+1Ws0bFhMRWbFBfi7YeayQK5wTmcDkEamwsDAcPXoUU6ZMQXFxMaqqqjB9+nT89ttvCA8Pb48aiYioA9y4wjnvXkHUOiaPSAGAr68vli9f3ta1EBGRiMK7q2AjlaCkSoOCimvo0c1e7JKILJ5ZQaqiogLr16/HqVOnIJFIEBYWhqeffrrJCuhERGQ9lLYy9PVxxrGCSmTlVzBIEbWCyaf2fv31VwQHB2PVqlW4cuUKSktL8c477yA4OBiHDx9ujxqJiKiDcGFOItOYHKTmzZuHBx98ELm5udi6dSu+/vpr5OTk4IEHHkBCQkI7lEhERB3l9yDFK/eIWsPkU3u//vor/vGPf8DG5vdNbWxssGDBAkRGRrZpcURE1LEG+TUugXD8khp1DTrIbUz+9zZRl2Ly/yHOzs7Iy8tr0p6fnw8nJ97okojImgW62cPF3hZ1DTqcKlSLXQ6RxTM5SMXHx+OZZ57B5s2bkZ+fj4sXL2LTpk149tln8fjjj7dHjURE1EEkEgnvu0dkApOD1N///nc89NBDmD59OgIDAxEQEICZM2fikUcewYoVK0wuYM2aNQgKCoJSqURERAT279/fYt/CwkJMnToVffr0gVQqbXFO1pYtWxAWFgaFQoGwsDB8/fXXRq8vXboUEonE6OHt7W3URxAELF26FL6+vrCzs8Po0aNx4sQJk4+PiMja6E/vZeVXiFsIkRUwOUjJ5XK8++67KC8vR1ZWFjIzM3HlyhWsWrUKCoXCpH1t3rwZCQkJSEpKQmZmJkaMGIG4uLhmTx0CgEajgYeHB5KSkjBw4MBm+6SnpyM+Ph7Tpk3DkSNHMG3aNEyZMgUHDx406tevXz8UFhYaHseOHTN6feXKlXjnnXfwwQcf4NChQ/D29sbYsWObvc8gEVFncuPCnER0axLhDpavzc/Ph0QiQY8ePczaPioqCkOGDMHatWsNbX379sWkSZOQnJx8y21Hjx6NQYMGYfXq1Ubt8fHxUKvV+O677wxt48ePR7du3fDll18CaByR2rZtG7KysprdtyAI8PX1RUJCAhYuXAigMcR5eXlhxYoVeP7551t1fGq1GiqVCpWVlXB2dm7VNkREYqu8Vo+Br+0GAGQsuRdujqb9I5nI2pny99vkEamGhga88sorUKlUhlN7KpUKS5YsQX19fav3U1dXh4yMDMTGxhq1x8bGIi0tzdSyDNLT05vsc9y4cU32mZ2dDV9fXwQFBeGxxx7D+fPnDa/l5OSgqKjIaD8KhQKjRo26o9qIiKyBys4WvTwdAfD0HtHtmLz8wZw5c/D1119j5cqViI6OBtAYXpYuXYrS0lJ89NFHrdpPaWkptFotvLy8jNq9vLxQVFRkalkGRUVFt91nVFQUNm7ciN69e+Py5ct44403EBMTgxMnTsDNzc3Qt7n9XLhwocX31mg00Gg0hudqNa94ISLrNMjPBWeLq5GVX4F7+nrdfgOiLsrkIPXll19i06ZNiIuLM7QNGDAA/v7+eOyxx1odpPQkEonRc0EQmrSZ6nb7vLH2/v37Izo6GsHBwfj000+RmJhodm3Jycl47bXX7qh2IiJLMNjfBf+XcZErnBPdhsmn9pRKJQIDA5u0BwYGQi6Xt3o/7u7ukMlkTUafiouLm4wEmcLb29vkfTo4OKB///7Izs427AOAyftZtGgRKisrDY/8/HxzD4OISFSDr1+5dyS/Ajqd2VNpiTo9k4PU7Nmz8frrrxudwtJoNHjzzTcxZ86cVu9HLpcjIiICKSkpRu0pKSmIiYkxtSyD6OjoJvvcvXv3Lfep0Whw6tQp+Pj4AACCgoLg7e1ttJ+6ujqkpqbecj8KhQLOzs5GDyIia9TbyxF2tjJUaRpwrqRa7HKILJbJp/YyMzPxww8/oEePHoYlCI4cOYK6ujrcc889eOihhwx9t27dest9JSYmYtq0aYiMjER0dDTWrVuHvLw8zJo1C0DjCE9BQQE2btxo2EZ/pV11dTVKSkqQlZUFuVyOsLAwAMDcuXMxcuRIrFixAhMnTsT27duxZ88eHDhwwLCP+fPnY8KECfD390dxcTHeeOMNqNVqzJgxA0DjKb2EhAQsX74cISEhCAkJwfLly2Fvb4+pU6ea+pEREVkdG5kUA3qocDDnCjLzKhDixTtXEDXH5CDl4uKChx9+2KjNz8/PrDePj49HWVkZli1bhsLCQoSHh2PXrl0ICAgA0LgA581rSg0ePNjwfUZGBr744gsEBAQgNzcXABATE4NNmzZhyZIleOWVVxAcHIzNmzcjKirKsN3Fixfx+OOPo7S0FB4eHrjrrrvw888/G94XABYsWIBr167hhRdeQHl5OaKiorB7927eBoeIuozB/t0ag1R+OaYMNe/3PFFnd0frSNGtcR0pIrJm3x8vwqzPMhDq7YTvE0aKXQ5Rh2nXdaSAxrWk9uzZg48//tiw0velS5dQXc3z6EREnYV+hfMzl6tQrWkQtxgiC2Xyqb0LFy5g/PjxyMvLg0ajwdixY+Hk5ISVK1eitrbW5OUPiIjIMnk5K9HdxQ4FFddw9GIFYoLdxS6JyOKYPCI1d+5cREZGory8HHZ2dob2yZMn44cffmjT4oiISFyDro9KcYVzouaZPCJ14MAB/PTTT03WjAoICEBBQUGbFUZEROIb7OeCnUcLuTAnUQtMHpHS6XTQarVN2i9evMgr2oiIOhn9PKnMvArw2iSipkwOUmPHjsXq1asNzyUSCaqrq/Hqq6/ivvvua8vaiIhIZP18VbCVSVBarcHF8mtil0NkcUwOUqtWrUJqairCwsJQW1uLqVOnIjAwEAUFBVixYkV71EhERCJR2srQ16fx8m/OkyJqyuQ5Ur6+vsjKysKmTZuQkZEBnU6HZ555Bk888YTR5HMiIuocBvu54OjFSmTmVWDCQF+xyyGyKCYHKQCws7PDU089haeeeqqt6yEiIgsz2L8bPk2/gMz8crFLIbI4Zi3ISUREXccgPxcAwIlLamgaml5sRNSVMUgREdEtBbjZo5u9LeoadDhVWCV2OUQWhUGKiIhuSSKRYLB/NwBAZh5P7xHdyKQgpdVqkZqaivJy/o9ERNSV6E/v8co9ImMmBSmZTIZx48ahoqKincohIiJLdOPCnET0O5NP7fXv3x/nz59vj1qIiMhCDfRzgUQC5F25irJqjdjlEFkMk4PUm2++ifnz52PHjh0oLCyEWq02ehARUefjrLRFLw9HADy9R3Qjk9eRGj9+PADgwQcfhEQiMbQLggCJRNLsffiIiMj6DfJzQXZxNTLzKnBPXy+xyyGyCCYHqR9//LE96iAiIgs32L8b/pNxkQtzEt3A5CA1atSo9qiDiIgsnH7C+ZH8Smh1AmRSya03IOoCzFpHav/+/XjyyScRExODgoICAMC///1vHDhwoE2LIyIiy9Hbywn2chmqNQ04V1ItdjlEFsHkILVlyxaMGzcOdnZ2OHz4MDSaxqs3qqqqsHz58jYvkIiILINMKsGAHioAXJiTSM/kIPXGG2/go48+wj/+8Q/Y2toa2mNiYnD48OE2LY6IiCzL7yucV4hbCJGFMDlInT59GiNHjmzS7uzszIU6iYg6Oa5wTmTM5CDl4+ODs2fPNmk/cOAAevbs2SZFERGRZRp8PUidvlyFak2DuMUQWQCTg9Tzzz+PuXPn4uDBg5BIJLh06RI+//xzzJ8/Hy+88EJ71EhERBbC01mJ7i52EATgKEeliExf/mDBggWorKzEmDFjUFtbi5EjR0KhUGD+/PmYM2dOe9RIREQWZJC/CwoqriEzvwIxvdzFLodIVCYHKaDxNjFJSUk4efIkdDodwsLC4Ojo2Na1ERGRBRrs54KdRws54ZwIZgYpALC3t4eXlxckEglDFBFRF6K/ci8rv9xwezCirsrkOVINDQ145ZVXoFKpEBgYiICAAKhUKixZsgT19fXtUSMREVmQfr7OsJVJUFpdh4vl18Quh0hUJo9IzZkzB19//TVWrlyJ6OhoAEB6ejqWLl2K0tJSfPTRR21eJBERWQ6lrQxhPs44crESmfkV8HO1F7skItGYHKS+/PJLbNq0CXFxcYa2AQMGwN/fH4899hiDFBFRFzDYv1tjkMorx4MDfcUuh0g0Jp/aUyqVCAwMbNIeGBgIuVzeFjUREZGF09/AmAtzUldncpCaPXs2Xn/9dcM99gBAo9HgzTff5PIHRERdhH6F8xMFamgatOIWQyQik0/tZWZm4ocffkCPHj0wcOBAAMCRI0dQV1eHe+65Bw899JCh79atW9uuUiIishj+rvZwdZDjSk0dTl5SG67kI+pqTA5SLi4uePjhh43a/Pz82qwgIiKyfBKJBIP9XPDDb8XIyq9gkKIuy+QgtWHDhvaog4iIrMyg60EqM68CTw0TuxoicZg8R4qIiAj4fWHOzPxykSshEg+DFBERmWWAnwoSCZB/5RpKqzW334CoE2KQIiIiszgrbRHi2XiLsCzed4+6KNGD1Jo1axAUFASlUomIiAjs37+/xb6FhYWYOnUq+vTpA6lUioSEhGb7bdmyBWFhYVAoFAgLC8PXX39t9HpycjKGDh0KJycneHp6YtKkSTh9+rRRn5kzZ0IikRg97rrrrjs+XiKizkS/DAJP71FX1SZBqqKiwqztNm/ejISEBCQlJSEzMxMjRoxAXFwc8vLymu2v0Wjg4eGBpKQkw9ILN0tPT0d8fDymTZuGI0eOYNq0aZgyZQoOHjxo6JOamorZs2fj559/RkpKChoaGhAbG4uamhqjfY0fPx6FhYWGx65du8w6TiKizsowT4ojUtRFSQRBEEzZYMWKFQgMDER8fDwAYMqUKdiyZQu8vb2xa9euFgNOc6KiojBkyBCsXbvW0Na3b19MmjQJycnJt9x29OjRGDRoEFavXm3UHh8fD7Vaje+++87QNn78eHTr1g1ffvlls/sqKSmBp6cnUlNTMXLkSACNI1IVFRXYtm1bq4/nZmq1GiqVCpWVlXB2djZ7P0REluq3IjXGr94PR4UNjrwaC5lUInZJRHfMlL/fJo9Iffzxx4Z1o1JSUpCSkoLvvvsOcXFxeOmll1q9n7q6OmRkZCA2NtaoPTY2FmlpaaaWZZCent5kn+PGjbvlPisrKwEArq6uRu379u2Dp6cnevfujeeeew7FxcW3fG+NRgO1Wm30ICLqzEI8neAgl6Fa04CzxdVil0PU4UwOUoWFhYYgtWPHDkyZMgWxsbFYsGABDh061Or9lJaWQqvVwsvLy6jdy8sLRUVFppZlUFRUZNI+BUFAYmIihg8fjvDwcEN7XFwcPv/8c+zduxdvv/02Dh06hLvvvtvo1jg3S05OhkqlMjy4UCkRdXYyqQQDergAADLzOE+Kuh6Tg1S3bt2Qn58PAPj+++9x7733AmgMJFqt6fdbkkiMh4EFQWjS1p77nDNnDo4ePdrktF98fDzuv/9+hIeHY8KECfjuu+9w5swZ7Ny5s8X3XbRoESorKw0P/edERNSZ8QbG1JWZvLL5Qw89hKlTpyIkJARlZWWIi4sDAGRlZaFXr16t3o+7uztkMlmTkaLi4uImI0qm8Pb2bvU+//znP+Obb77B//73P/To0eOW+/Xx8UFAQACys7Nb7KNQKKBQKMwrnIjIShmu3OOEc+qCTB6RWrVqFebMmYOwsDCkpKTA0bFxDZHCwkK88MILrd6PXC5HREQEUlJSjNpTUlIQExNjalkG0dHRTfa5e/duo30KgoA5c+Zg69at2Lt3L4KCgm6737KyMuTn58PHx8fs2oiIOqNB10ekzhRXoaq2XtxiiDqYySNStra2mD9/fpP2ltZ0upXExERMmzYNkZGRiI6Oxrp165CXl4dZs2YBaDxVVlBQgI0bNxq2ycrKAgBUV1ejpKQEWVlZkMvlCAsLAwDMnTsXI0eOxIoVKzBx4kRs374de/bswYEDBwz7mD17Nr744gts374dTk5OhhEslUoFOzs7VFdXY+nSpXj44Yfh4+OD3NxcLF68GO7u7pg8ebLJx0lE1Jl5OinRo5sdLpZfw7GLlYjp5S52SUQdRzDRJ598IuzYscPw/KWXXhJUKpUQHR0t5Obmmro74cMPPxQCAgIEuVwuDBkyREhNTTW8NmPGDGHUqFFG/QE0eQQEBBj1+c9//iP06dNHsLW1FUJDQ4UtW7bcdh8AhA0bNgiCIAhXr14VYmNjBQ8PD8HW1lbw9/cXZsyYIeTl5Zl0bJWVlQIAobKy0qTtiIiszezPM4SAhTuED/Zmi10K0R0z5e+3yetI9enTB2vXrsXdd9+N9PR03HPPPVi9ejV27NgBGxsbbN26tQ1jnnXjOlJE1FWsP5CD13ecxL19PfHPGUPFLofojpjy99vkU3v5+fmGSeXbtm3DI488gj/+8Y8YNmwYRo8ebVbBRERk3fRX7mXmVbTJ1ddE1sLkyeaOjo4oKysD0DiJW7/8gVKpxLVr19q2OiIisgr9fJ0hl0lRVlOHi+X8W0Bdh8kjUmPHjsWzzz6LwYMH48yZM7j//vsBACdOnEBgYGBb10dERFZAYSNDX19nHMmvwOG8cvi52otdElGHMHlE6sMPP0R0dDRKSkqwZcsWuLm5AQAyMjLw+OOPt3mBRERkHQZzPSnqgkyebE6tx8nmRNSVbM8qwNxNWRjk54Jts4eJXQ6R2dp1sjkAVFRUYP369Th16hQkEgn69u2LZ555BiqVyqyCiYjI+g326wYAOHlJDU2DFgobmcgVEbU/k0/t/frrrwgODsaqVatw5coVlJaWYtWqVQgODsbhw4fbo0YiIrICfq52cHOQo06rw4lLarHLIeoQJgepefPm4cEHH0Rubi62bt2Kr7/+Gjk5OXjggQfMWt2ciIg6B4lE8vsNjDlPiroIs0akFi5cCBub388K2tjYYMGCBfj111/btDgiIrIuhhsY51eIWgdRRzE5SDk7OyMvL69Je35+PpycnNqkKCIisk6D/RvnSWXmlYtcCVHHMDlIxcfH45lnnsHmzZuRn5+PixcvYtOmTXj22We5/AERURc3oIcKEglwsfwaSqo0YpdD1O5Mvmrv73//OyQSCaZPn46GhgYAgK2tLf70pz/hrbfeavMCiYjIejgpbRHi6Ygzl6uRlV+BsWFeYpdE1K5MHpGSy+V49913UV5ejqysLGRmZuLKlStYtWoVFApFe9RIRERWRL8MAk/vUVdgcpDSs7e3R//+/TFgwADY2/NWAERE1Mhw5R4nnFMX0KpTew899FCrd7h161aziyEiIuunn3B+JL8CWp0AmVQickVE7adVQYorlhMRUWv18nSEg1yGmjotsourEOrNW2RR59WqILVhw4b2roOIiDoJmVSCgX4uSDtXhsy8CgYp6tTMniNFRETUEq5wTl0FgxQREbW5Qfor9/J55R51bgxSRETU5vS3iskurkZVbb24xRC1IwYpIiJqcx5OCvi52kEQgKMXK8Uuh6jdMEgREVG7GMSFOakLMPkWMe+9916z7RKJBEqlEr169cLIkSMhk8nuuDgiIrJeg/1c8O2RS8jkhHPqxEwOUqtWrUJJSQmuXr2Kbt26QRAEVFRUwN7eHo6OjiguLkbPnj3x448/ws/Prz1qJiIiK3DjCueCIEAi4cKc1PmYfGpv+fLlGDp0KLKzs1FWVoYrV67gzJkziIqKwrvvvou8vDx4e3tj3rx57VEvERFZiTBfZ8hlUpTV1CH/yjWxyyFqFyYHqSVLlmDVqlUIDg42tPXq1Qt///vfsWjRIvTo0QMrV67ETz/91KaFEhGRdVHYyBDm27gYJ5dBoM7K5CBVWFiIhoaGJu0NDQ0oKioCAPj6+qKqqurOqyMiIqumP73HeVLUWZkcpMaMGYPnn38emZmZhrbMzEz86U9/wt133w0AOHbsGIKCgtquSiIiskr6Gxhn5leIWwhROzE5SK1fvx6urq6IiIiAQqGAQqFAZGQkXF1dsX79egCAo6Mj3n777TYvloiIrMvg6wtznrxUidp6rbjFELUDk6/a8/b2RkpKCn777TecOXMGgiAgNDQUffr0MfQZM2ZMmxZJRETWqUc3O7g7ylFaXYfjBZWIDHQVuySiNmVykEpNTcWoUaMQGhqK0NDQ9qiJiIg6CYlEgqiebth5tBA/nS1jkKJOx+RTe2PHjoW/vz9efvllHD9+vD1qIiKiTmR4L3cAwIGzJSJXQtT2TA5Sly5dwoIFC7B//34MGDAAAwYMwMqVK3Hx4sX2qI+IiKycPkhl5lWgWtP0qm8ia2ZykHJ3d8ecOXPw008/4dy5c4iPj8fGjRsRGBhouGqPiIhIz8/VHgFu9mjQCfglp0zscoja1B3dtDgoKAgvv/wy3nrrLfTv3x+pqaltVRcREXUiw/Sn97IZpKhzMTtI/fTTT3jhhRfg4+ODqVOnol+/ftixY0db1kZERJ2E/vTeT2dLRa6EqG2ZfNXe4sWL8eWXX+LSpUu49957sXr1akyaNAn29vbtUR8REXUC0T3dIJEApy9XoVhdC09npdglEbUJk4PUvn37MH/+fMTHx8Pd3b09aiIiok6mm4Mc4b4qHCuoxE/nSjF5cA+xSyJqEyaf2ktLS8Ps2bPbLEStWbMGQUFBUCqViIiIwP79+1vsW1hYiKlTp6JPnz6QSqVISEhott+WLVsQFhYGhUKBsLAwfP311ya/ryAIWLp0KXx9fWFnZ4fRo0fjxIkTd3SsRERd2fAQzpOizsfsOVInT57E999/j2+++cboYYrNmzcjISEBSUlJyMzMxIgRIxAXF4e8vLxm+2s0Gnh4eCApKQkDBw5stk96ejri4+Mxbdo0HDlyBNOmTcOUKVNw8OBBk9535cqVeOedd/DBBx/g0KFD8Pb2xtixY3kzZiIiM904T0oQBJGrIWobEsHE/5rPnz+PyZMn49ixY5BIJIb/GSQSCQBAq239vZSioqIwZMgQrF271tDWt29fTJo0CcnJybfcdvTo0Rg0aBBWr15t1B4fHw+1Wo3vvvvO0DZ+/Hh069YNX375ZaveVxAE+Pr6IiEhAQsXLgTQGOK8vLywYsUKPP/88606PrVaDZVKhcrKSjg7O7dqGyKizqq2XouBr+2GpkGHPYkj0cvTSeySiJplyt9vk0ek5s6di6CgIFy+fBn29vY4ceIE/ve//yEyMhL79u1r9X7q6uqQkZGB2NhYo/bY2FikpaWZWpZBenp6k32OGzfOsM/WvG9OTg6KioqM+igUCowaNeqOaiMi6sqUtjIMvX6LmAPZvHqPOgeTg1R6ejqWLVsGDw8PSKVSSKVSDB8+HMnJyXjxxRdbvZ/S0lJotVp4eXkZtXt5eaGoqMjUsgyKiopuuc/WvK/+q6m1aTQaqNVqowcREf3OsJ7UWc6Tos7B5CCl1Wrh6OgIoHGV80uXLgEAAgICcPr0aZML0J8S1BMEoUlbe+yzrfrcKDk5GSqVyvDw8/Mzp3wiok5rxPUJ5z+fL0ODVidyNUR3zuQgFR4ejqNHjwJonGu0cuVK/PTTT1i2bBl69uzZ6v24u7tDJpM1GeEpLi5uMhJkCm9v71vuszXv6+3tDQAm17Zo0SJUVlYaHvn5+WYfBxFRZxTm4wwXe1tUaxpw5GKl2OUQ3TGTg9SSJUug0zX+K+KNN97AhQsXMGLECOzatQvvvfdeq/cjl8sRERGBlJQUo/aUlBTExMSYWpZBdHR0k33u3r3bsM/WvG9QUBC8vb2N+tTV1SE1NfWWtSkUCjg7Oxs9iIjod1KpBMOC9csgcJ4UWT+TF+QcN26c4fuePXvi5MmTuHLlCrp162byKbnExERMmzYNkZGRiI6Oxrp165CXl4dZs2YBaBzhKSgowMaNGw3bZGVlAQCqq6tRUlKCrKwsyOVyhIWFAWicDD9y5EisWLECEydOxPbt27Fnzx4cOHCg1e8rkUiQkJCA5cuXIyQkBCEhIVi+fDns7e0xdepUUz8yIiK6wbBe7th5rBA/nS3F3HtDxC6H6I6YHKSa4+rqatZ28fHxKCsrw7Jly1BYWIjw8HDs2rULAQEBABoX4Lx5TanBgwcbvs/IyMAXX3yBgIAA5ObmAgBiYmKwadMmLFmyBK+88gqCg4OxefNmREVFtfp9AWDBggW4du0aXnjhBZSXlyMqKgq7d++GkxMv1yUiuhP69aQO55WjRtMAB0Wb/CkiEoXJ60hR63EdKSKi5o1c+SPyrlzFhplDMSbUU+xyiIy06zpSREREd+r3ZRA4T4qsG4MUERF1OP3pPU44J2vHIEVERB0uJtgNEglw+nIViqtqxS6HyGwMUkRE1OG6OcgR7qsCAKRxlXOyYgxSREQkCs6Tos6AQYqIiERx4zwpXkBO1opBioiIRBEZ2A1yGymK1LU4V1IjdjlEZmGQIiIiUShtZRga2A0A8BNP75GVYpAiIiLRDO/lAYDzpMh6MUgREZFo9POkfj5XhgatTuRqiEzHIEVERKIJ83WGi70tqjQNOHKxUuxyiEzGIEVERKKRSSWICXYDwHlSZJ0YpIiISFRcT4qsGYMUERGJasT1CeeZeeWo0TSIXA2RaRikiIhIVP5u9vBztUO9VsAvOVfELofIJAxSREQkuuE8vUdWikGKiIhEp58nxQnnZG0YpIiISHQxwe6QSIDfiqpQXFUrdjlErcYgRUREonN1kKOfrzMAIP1cmcjVELUegxQREVkE/em9/dk8vUfWg0GKiIgswvAb5kkJgiByNUStwyBFREQWYWigK+Q2UhRW1uJ8aY3Y5RC1CoMUERFZBKWtDEMDuwHg1XtkPRikiIjIYhhuF8N5UmQlGKSIiMhi6OdJpZ8rQ4NWJ3I1RLfHIEVERBajn68KKjtbVGkacLSgUuxyiG6LQYqIiCyGTCpBTLAbAOAnnt4jK8AgRUREFmV4CO+7R9aDQYqIiCyKfp7U4bxy1GgaRK6G6NYYpIiIyKL4u9qjRzc71GsF/JJ7RexyiG6JQYqIiCyKRCL5fZVzzpMiC8cgRUREFsewnhTnSZGFY5AiIiKLow9SvxVVoaRKI3I1RC1jkCIiIovj6iBHP19nAEDaOY5KkeVikCIiIos0nLeLISvAIEVERBZJf3rvp7OlEARB5GqImscgRUREFukPQa6Q20hxqbIWOaU1YpdD1CwGKSIiskhKWxkiA7oBaByVIrJEDFJERGSx9Kf39nOeFFko0YPUmjVrEBQUBKVSiYiICOzfv/+W/VNTUxEREQGlUomePXvio48+Mnq9vr4ey5YtQ3BwMJRKJQYOHIjvv//eqE9gYCAkEkmTx+zZsw19Zs6c2eT1u+66q+0OnIiIbks/4Tz9fBkatDqRqyFqStQgtXnzZiQkJCApKQmZmZkYMWIE4uLikJeX12z/nJwc3HfffRgxYgQyMzOxePFivPjii9iyZYuhz5IlS/Dxxx/j/fffx8mTJzFr1ixMnjwZmZmZhj6HDh1CYWGh4ZGSkgIAePTRR43eb/z48Ub9du3a1Q6fAhERtSS8uwoqO1tU1TbgWEGl2OUQNSERRLwUIioqCkOGDMHatWsNbX379sWkSZOQnJzcpP/ChQvxzTff4NSpU4a2WbNm4ciRI0hPTwcA+Pr6IikpyWh0adKkSXB0dMRnn33WbB0JCQnYsWMHsrOzIZFIADSOSFVUVGDbtm1mH59arYZKpUJlZSWcnZ3N3g8RUVf2p88y8N3xIsyP7Y05d4eIXQ51Aab8/RZtRKqurg4ZGRmIjY01ao+NjUVaWlqz26SnpzfpP27cOPz666+or68HAGg0GiiVSqM+dnZ2OHDgQIt1fPbZZ3j66acNIUpv37598PT0RO/evfHcc8+huLj4lsek0WigVquNHkREdGc4T4osmWhBqrS0FFqtFl5eXkbtXl5eKCoqanaboqKiZvs3NDSgtLTxf7Bx48bhnXfeQXZ2NnQ6HVJSUrB9+3YUFhY2u89t27ahoqICM2fONGqPi4vD559/jr179+Ltt9/GoUOHcPfdd0OjaflWBcnJyVCpVIaHn5/f7T4GIiK6Df08qcN55bha1yByNUTGRJ9sfvMokCAITdpu1//G9nfffRchISEIDQ2FXC7HnDlz8NRTT0EmkzW7v/Xr1yMuLg6+vr5G7fHx8bj//vsRHh6OCRMm4LvvvsOZM2ewc+fOFmtbtGgRKisrDY/8/PyWD5yIiFolwM0e3V3sUK8V8EvOFbHLITIiWpByd3eHTCZrMvpUXFzcZNRJz9vbu9n+NjY2cHNzAwB4eHhg27ZtqKmpwYULF/Dbb7/B0dERQUFBTfZ34cIF7NmzB88+++xt6/Xx8UFAQACys7Nb7KNQKODs7Gz0ICKiOyORSAyjUlxPiiyNaEFKLpcjIiLCcMWcXkpKCmJiYprdJjo6ukn/3bt3IzIyEra2tkbtSqUS3bt3R0NDA7Zs2YKJEyc22d+GDRvg6emJ+++//7b1lpWVIT8/Hz4+PrftS0REbWt4yPX77p0tE7kSImOintpLTEzEP//5T/zrX//CqVOnMG/ePOTl5WHWrFkAGk+VTZ8+3dB/1qxZuHDhAhITE3Hq1Cn861//wvr16zF//nxDn4MHD2Lr1q04f/489u/fj/Hjx0On02HBggVG763T6bBhwwbMmDEDNjY2Rq9VV1dj/vz5SE9PR25uLvbt24cJEybA3d0dkydPbsdPhIiImhMT3HjW4VShGiVVLc9VJepoNrfv0n7i4+NRVlaGZcuWobCwEOHh4di1axcCAgIAAIWFhUZrSgUFBWHXrl2YN28ePvzwQ/j6+uK9997Dww8/bOhTW1uLJUuW4Pz583B0dMR9992Hf//733BxcTF67z179iAvLw9PP/10k7pkMhmOHTuGjRs3oqKiAj4+PhgzZgw2b94MJyen9vkwiIioRW6OCoT5OONkoRpp50oxcVB3sUsiAiDyOlKdHdeRIiJqO8t3ncK6/53HlMgeWPnIQLHLoU7MKtaRIiIiMoV+wvmB7FJwDIAsBYMUERFZhaGBrpDLpLhUWYvcsqtil0MEgEGKiIishJ1choiAbgCAA9klIldD1IhBioiIrMbvyyBwPSmyDAxSRERkNfT33Us7VwatjvOkSHwMUkREZDX6d1fBWWmDqtoGHCuoFLscIgYpIiKyHjKpBDHB+qv3OE+KxMcgRUREVmUY50mRBWGQIiIiq6JfT+rwhQpcrWsQuRrq6hikiIjIqgS62aO7ix3qtDocyi0Xuxzq4hikiIjIqkgkEsOo1E88vUciY5AiIiKro58ntT+bQYrExSBFRERWJybYDQBwqlCN0mqNyNVQV8YgRUREVsfdUYG+Ps4AGhfnJBILgxQREVml4b0aR6V+4uk9EhGDFBERWaXhIR4AGteTEgTeLobEwSBFRERWaWhgN8hlUhRUXENu2VWxy6EuikGKiIiskr3cBkMCXABwlXMSD4MUERFZLcN6UpwnRSJhkCIiIqulnyeVdq4UWh3nSVHHY5AiIiKr1b+7Ck5KG6hrG3CsoFLscqgLYpAiIiKrJZNKDItz8nYxJAYGKSIismr6eVIHOE+KRMAgRUREVm3Y9SCVcaEc1+q0IldDXQ2DFBERWbUgdwd0d7FDnVaHQ7lXxC6HuhgGKSIismoSiQTDrt8uhutJUUdjkCIiIqs3jPOkSCQMUkREZPVighuD1MlCNcqqNSJXQ10JgxQREVk9DycFQr2dAABp58pEroa6EgYpIiLqFEaEXL9dDOdJUQdikCIiok5BP09qf3YpBIG3i6GOwSBFRESdwh+CXGErk6Cg4houlF0VuxzqIhikiIioU7CX22CIfzcAXAaBOg6DFBERdRr628VwnhR1FAYpIiLqNIZfn3Cedq4MWh3nSVH7Y5AiIqJOo393FZyUNqi8Vo/jBZVil0NdAIMUERF1GjYyKaJ78nYx1HEYpIiIqFMZzvWkqAOJHqTWrFmDoKAgKJVKREREYP/+/bfsn5qaioiICCiVSvTs2RMfffSR0ev19fVYtmwZgoODoVQqMXDgQHz//fdGfZYuXQqJRGL08Pb2NuojCAKWLl0KX19f2NnZYfTo0Thx4kTbHDQREbUb/YTzX3PLca1OK3I11NmJGqQ2b96MhIQEJCUlITMzEyNGjEBcXBzy8vKa7Z+Tk4P77rsPI0aMQGZmJhYvXowXX3wRW7ZsMfRZsmQJPv74Y7z//vs4efIkZs2ahcmTJyMzM9NoX/369UNhYaHhcezYMaPXV65ciXfeeQcffPABDh06BG9vb4wdOxZVVVVt/0EQEVGbCXJ3gK9KiTqtDodyr4hdDnV2goj+8Ic/CLNmzTJqCw0NFV5++eVm+y9YsEAIDQ01anv++eeFu+66y/Dcx8dH+OCDD4z6TJw4UXjiiScMz1999VVh4MCBLdal0+kEb29v4a233jK01dbWCiqVSvjoo49ue1x6lZWVAgChsrKy1dsQEdGdm/9VlhCwcIewfOdJsUshK2TK32/RRqTq6uqQkZGB2NhYo/bY2FikpaU1u016enqT/uPGjcOvv/6K+vp6AIBGo4FSqTTqY2dnhwMHDhi1ZWdnw9fXF0FBQXjsscdw/vx5w2s5OTkoKioyei+FQoFRo0a1WBsREVkO/TwpTjin9iZakCotLYVWq4WXl5dRu5eXF4qKiprdpqioqNn+DQ0NKC1t/J9l3LhxeOedd5CdnQ2dToeUlBRs374dhYWFhm2ioqKwceNG/Pe//8U//vEPFBUVISYmBmVlZYb30e+7tbUBjSFOrVYbPYiIqOPFBDcGqROX1FiVcgZfHcrH/86UIPtyFapq60WujjoTG7ELkEgkRs8FQWjSdrv+N7a/++67eO655xAaGgqJRILg4GA89dRT2LBhg2GbuLg4w/f9+/dHdHQ0goOD8emnnyIxMdHs2pKTk/Haa6+1+DoREXUMDycFwrs743iBGu/+kN3kdUeFDbxVSviolPB2vv5VZXf9a+NzlZ3tLX/nEwEiBil3d3fIZLImIzzFxcVNRoL0vL29m+1vY2MDN7fGdUM8PDywbds21NbWoqysDL6+vnj55ZcRFBTUYi0ODg7o378/srOzDe8DNI5M+fj4tKo2AFi0aJFREFOr1fDz82uxPxERtZ/3HhuMb48Uokh9DYWVtSiqrEVhZS0qr9WjWtOAs8XVOFtc3eL2SlspfG4KV94qO/g4//7c1UHOsNXFiRak5HI5IiIikJKSgsmTJxvaU1JSMHHixGa3iY6OxrfffmvUtnv3bkRGRsLW1taoXalUonv37qivr8eWLVswZcqUFmvRaDQ4deoURowYAQAICgqCt7c3UlJSMHjwYACNc7pSU1OxYsWKFvejUCigUChufeBERNQheno4Yu69IU3ar9Y1GAWrokrjoFWkrsWVmjrU1uuQU1qDnNKaFt9DLpPC2yhoKeHjrISHkxJ2cimUNjIo5bLGr7ZSKG1l1x+Nr0mlDGHWTtRTe4mJiZg2bRoiIyMRHR2NdevWIS8vD7NmzQLQOMJTUFCAjRs3AgBmzZqFDz74AImJiXjuueeQnp6O9evX48svvzTs8+DBgygoKMCgQYNQUFCApUuXQqfTYcGCBYY+8+fPx4QJE+Dv74/i4mK88cYbUKvVmDFjBoDGU3oJCQlYvnw5QkJCEBISguXLl8Pe3h5Tp07twE+IiIjamr3cBsEejgj2cGyxT229FpfVtUYBq/CmwFVarUGdVoe8K1eRd+WqWbXIbaRQ2twUsGwbg5fCVgq7m9ttZVDaSKG4/r2d0WtSw3ZyWeNXhY0UchspFDay61+lsJFKOIrWhkQNUvHx8SgrK8OyZctQWFiI8PBw7Nq1CwEBAQCAwsJCozWlgoKCsGvXLsybNw8ffvghfH198d577+Hhhx829KmtrcWSJUtw/vx5ODo64r777sO///1vuLi4GPpcvHgRjz/+OEpLS+Hh4YG77roLP//8s+F9AWDBggW4du0aXnjhBZSXlyMqKgq7d++Gk5NT+38wREQkKqWtDAFuDghwc2ixT12DDpfVjSNYN49slVZrcK1ei9p6HWqvf9XUa1HboEW9VjDaR12DDuraho44LACAVAJDuPo9aEkhv/78xvClsJVCIZNeD2eNAU5ho//+94Aml0khk0ogkQBSieT6o3FgQqpvkzY+lzX3uvTG5zdsc3074/6/vy6RAE5KW6jsbG9/4O1EIuhna1ObU6vVUKlUqKyshLOzs9jlEBGRBdDqhOvhSovaBh2u1TV+r2kwDl6114PX723am177vV1Tr0NtgxbX6rSo0zaGM02D/qtxeOtsXhgdjAXjQ9t0n6b8/Rb9qj0iIqKuRCaVwEFhAwdFx/0J1ukE1Gl10NQ3BivNTUHr9++ba2sManVaXZM2zfV91ml1EAQBOkGATgfoBAGC0Pi18XHD9828/vv317/qbtwGv+9baLqtjUzcu90xSBEREXVyUqkESmnjvCpAvNNgnZHoNy0mIiIislYMUkRERERmYpAiIiIiMhODFBEREZGZGKSIiIiIzMQgRURERGQmBikiIiIiMzFIEREREZmJQYqIiIjITAxSRERERGZikCIiIiIyE4MUERERkZkYpIiIiIjMxCBFREREZCYbsQvozARBAACo1WqRKyEiIqLW0v/d1v8dvxUGqXZUVVUFAPDz8xO5EiIiIjJVVVUVVCrVLftIhNbELTKLTqfDpUuX4OTkBIlE0qb7VqvV8PPzQ35+Ppydndt035aIx9u58Xg7Nx5v59YZj1cQBFRVVcHX1xdS6a1nQXFEqh1JpVL06NGjXd/D2dm50/yH2xo83s6Nx9u58Xg7t852vLcbidLjZHMiIiIiMzFIEREREZmJQcpKKRQKvPrqq1AoFGKX0iF4vJ0bj7dz4/F2bl3teG/GyeZEREREZuKIFBEREZGZGKSIiIiIzMQgRURERGQmBikiIiIiMzFIWaE1a9YgKCgISqUSERER2L9/v9gltYvk5GQMHToUTk5O8PT0xKRJk3D69Gmxy+owycnJkEgkSEhIELuUdlNQUIAnn3wSbm5usLe3x6BBg5CRkSF2We2moaEBS5YsQVBQEOzs7NCzZ08sW7YMOp1O7NLaxP/+9z9MmDABvr6+kEgk2LZtm9HrgiBg6dKl8PX1hZ2dHUaPHo0TJ06IU2wbuNXx1tfXY+HChejfvz8cHBzg6+uL6dOn49KlS+IVfIdu9/O90fPPPw+JRILVq1d3WH1iYZCyMps3b0ZCQgKSkpKQmZmJESNGIC4uDnl5eWKX1uZSU1Mxe/Zs/Pzzz0hJSUFDQwNiY2NRU1Mjdmnt7tChQ1i3bh0GDBggdintpry8HMOGDYOtrS2+++47nDx5Em+//TZcXFzELq3drFixAh999BE++OADnDp1CitXrsTf/vY3vP/++2KX1iZqamowcOBAfPDBB82+vnLlSrzzzjv44IMPcOjQIXh7e2Ps2LGG+5Jam1sd79WrV3H48GG88sorOHz4MLZu3YozZ87gwQcfFKHStnG7n6/etm3bcPDgQfj6+nZQZSITyKr84Q9/EGbNmmXUFhoaKrz88ssiVdRxiouLBQBCamqq2KW0q6qqKiEkJERISUkRRo0aJcydO1fsktrFwoULheHDh4tdRoe6//77haefftqo7aGHHhKefPJJkSpqPwCEr7/+2vBcp9MJ3t7ewltvvWVoq62tFVQqlfDRRx+JUGHbuvl4m/PLL78IAIQLFy50TFHtqKXjvXjxotC9e3fh+PHjQkBAgLBq1aoOr62jcUTKitTV1SEjIwOxsbFG7bGxsUhLSxOpqo5TWVkJAHB1dRW5kvY1e/Zs3H///bj33nvFLqVdffPNN4iMjMSjjz4KT09PDB48GP/4xz/ELqtdDR8+HD/88APOnDkDADhy5AgOHDiA++67T+TK2l9OTg6KioqMfn8pFAqMGjWqS/z+Ahp/h0kkkk476qrT6TBt2jS89NJL6Nevn9jldBjetNiKlJaWQqvVwsvLy6jdy8sLRUVFIlXVMQRBQGJiIoYPH47w8HCxy2k3mzZtwuHDh3Ho0CGxS2l358+fx9q1a5GYmIjFixfjl19+wYsvvgiFQoHp06eLXV67WLhwISorKxEaGgqZTAatVos333wTjz/+uNiltTv976jmfn9duHBBjJI6VG1tLV5++WVMnTq1U93Y90YrVqyAjY0NXnzxRbFL6VAMUlZIIpEYPRcEoUlbZzNnzhwcPXoUBw4cELuUdpOfn4+5c+di9+7dUCqVYpfT7nQ6HSIjI7F8+XIAwODBg3HixAmsXbu20wapzZs347PPPsMXX3yBfv36ISsrCwkJCfD19cWMGTPELq9DdMXfX/X19Xjssceg0+mwZs0asctpFxkZGXj33Xdx+PDhTv/zvBlP7VkRd3d3yGSyJqNPxcXFTf6V15n8+c9/xjfffIMff/wRPXr0ELucdpORkYHi4mJERETAxsYGNjY2SE1NxXvvvQcbGxtotVqxS2xTPj4+CAsLM2rr27dvp7xwQu+ll17Cyy+/jMceewz9+/fHtGnTMG/ePCQnJ4tdWrvz9vYGgC73+6u+vh5TpkxBTk4OUlJSOu1o1P79+1FcXAx/f3/D768LFy7gL3/5CwIDA8Uur10xSFkRuVyOiIgIpKSkGLWnpKQgJiZGpKrajyAImDNnDrZu3Yq9e/ciKChI7JLa1T333INjx44hKyvL8IiMjMQTTzyBrKwsyGQysUtsU8OGDWuynMWZM2cQEBAgUkXt7+rVq5BKjX/tymSyTrP8wa0EBQXB29vb6PdXXV0dUlNTO+XvL+D3EJWdnY09e/bAzc1N7JLazbRp03D06FGj31++vr546aWX8N///lfs8toVT+1ZmcTEREybNg2RkZGIjo7GunXrkJeXh1mzZoldWpubPXs2vvjiC2zfvh1OTk6Gf8mqVCrY2dmJXF3bc3JyajL/y8HBAW5ubp1yXti8efMQExOD5cuXY8qUKfjll1+wbt06rFu3TuzS2s2ECRPw5ptvwt/fH/369UNmZibeeecdPP3002KX1iaqq6tx9uxZw/OcnBxkZWXB1dUV/v7+SEhIwPLlyxESEoKQkBAsX74c9vb2mDp1qohVm+9Wx+vr64tHHnkEhw8fxo4dO6DVag2/w1xdXSGXy8Uq22y3+/neHBRtbW3h7e2NPn36dHSpHUvciwbJHB9++KEQEBAgyOVyYciQIZ12OQAAzT42bNggdmkdpjMvfyAIgvDtt98K4eHhgkKhEEJDQ4V169aJXVK7UqvVwty5cwV/f39BqVQKPXv2FJKSkgSNRiN2aW3ixx9/bPb/2RkzZgiC0LgEwquvvip4e3sLCoVCGDlypHDs2DFxi74DtzrenJycFn+H/fjjj2KXbpbb/Xxv1lWWP5AIgiB0UGYjIiIi6lQ4R4qIiIjITAxSRERERGZikCIiIiIyE4MUERERkZkYpIiIiIjMxCBFREREZCYGKSIiIiIzMUgREbWhffv2QSKRoKKiQuxSiKgDMEgREVmYv/3tb4bbpnz++ee4++67Ra6IiFrCIEVEZGHS09MxbNgwAMCBAwcM3xOR5WGQIqJOQxAErFy5Ej179oSdnR0GDhyI//u//zO8rj/ttnPnTgwcOBBKpRJRUVE4duyY0X62bNmCfv36QaFQIDAwEG+//bbR6xqNBgsWLICfnx8UCgVCQkKwfv16oz4ZGRmIjIyEvb09YmJicPr06VYfB4MUkRUR+V5/RERtZvHixUJoaKjw/fffC+fOnRM2bNggKBQKYd++fYIg/H7T1b59+wq7d+8Wjh49KjzwwANCYGCgUFdXJwiCIPz666+CVCoVli1bJpw+fVrYsGGDYGdnZ3Sz7ClTpgh+fn7C1q1bhXPnzgl79uwRNm3aZPQeUVFRwr59+4QTJ04II0aMEGJiYm5Ze3JysqBSqQSVSiUAEJydnQ3fOzk5CSqVSti/f3/7fHBEZDYGKSLqFKqrqwWlUimkpaUZtT/zzDPC448/LgjC7yFHH3oEQRDKysoEOzs7YfPmzYIgCMLUqVOFsWPHGu3jpZdeEsLCwgRBEITTp08LAISUlJRm69C/x549ewxtO3fuFAAI165da7H+8vJyIScnR3j11VeFcePGCTk5OcKHH34oDB06VMjJyRFycnJuuT0RicNGvLEwIqK2c/LkSdTW1mLs2LFG7XV1dRg8eLBRW3R0tOF7V1dX9OnTB6dOnQIAnDp1ChMnTjTqP2zYMKxevRparRZZWVmQyWQYNWrULesZMGCA4XsfHx8AQHFxMfz9/Zvt7+LiAhcXF/zyyy94+OGHERgYiMzMTDz44IMIDAy89cETkWgYpIioU9DpdACAnTt3onv37kavKRSK224vkUgANM6z0n+vJwiC4Xs7O7tW1WNra9tk3/oab7Z//37ExcUBAK5evYp9+/Zh3rx5uHbtGmxtbfHWW29h8eLFWLx4cavem4g6DoMUEXUKYWFhUCgUyMvLu+1o0c8//2wYGSovL8eZM2cQGhpq2M+BAweM+qelpaF3796QyWTo378/dDodUlNTce+997ZJ7ZGRkcjKykJGRgYWLFiAH374AXl5eXjwwQdx+PBhSKVSuLq6tsl7EVHbYpAiok7ByckJ8+fPx7x586DT6TB8+HCo1WqkpaXB0dERM2bMMPRdtmwZ3Nzc4OXlhaSkJLi7u2PSpEkAgL/85S8YOnQoXn/9dcTHxyM9PR0ffPAB1qxZAwAIDAzEjBkz8PTTT+O9997DwIEDceHCBRQXF2PKlClm1W5nZ4devXrh//7v/zB69Gj06tULaWlpGDZsGHr37n3Hnw0RtR8uf0BEncbrr7+Ov/71r0hOTkbfvn0xbtw4fPvttwgKCjLq99Zbb2Hu3LmIiIhAYWEhvvnmG8jlcgDAkCFD8NVXX2HTpk0IDw/HX//6VyxbtgwzZ840bL927Vo88sgjeOGFFxAaGornnnsONTU1d1z/vn37MHLkSABAamqq4XsislwS4caT/0REndi+ffswZswYlJeXw8XFRexyiKgT4IgUERERkZkYpIiIiIjMxFN7RERERGbiiBQRERGRmRikiIiIiMzEIEVERERkJgYpIiIiIjMxSBERERGZiUGKiIiIyEwMUkRERERmYpAiIiIiMhODFBEREZGZ/h/nLgzpS9fg7wAAAABJRU5ErkJggg==",
      "text/plain": [
       "<Figure size 640x480 with 1 Axes>"
      ]
     },
     "metadata": {},
     "output_type": "display_data"
    },
    {
     "name": "stdout",
     "output_type": "stream",
     "text": [
      "[0.11166648504634698, 0.11143634840846062, 0.11119029534359773, 0.11094706493119398, 0.11070459522306919, 0.11045951520403226, 0.11020406844715278, 0.10990371406078339, 0.10942454872032006, 0.1076464306563139, 0.10065884416302046, 0.09495414302994808, 0.09478751420974732, 0.09473337934662898, 0.09468810204416514, 0.09467579020808141]\n"
     ]
    }
   ],
   "source": [
    "def graph_loss(x, y, graph_name):\n",
    "\n",
    "    plt.plot(x, y)\n",
    "    plt.xlabel(\"epoch #\")\n",
    "    plt.ylabel(\"avg loss per epoch\")\n",
    "    plt.title(graph_name)\n",
    "    plt.show()\n",
    "    \n",
    "graph_loss(range(len(conv_model_loss)), conv_model_loss, \"convolutional model\")\n",
    "print(conv_model_loss)"
   ]
  },
  {
   "cell_type": "markdown",
   "metadata": {},
   "source": []
  }
 ],
 "metadata": {
  "kernelspec": {
   "display_name": "Python 3 (ipykernel)",
   "language": "python",
   "name": "python3"
  },
  "language_info": {
   "codemirror_mode": {
    "name": "ipython",
    "version": 3
   },
   "file_extension": ".py",
   "mimetype": "text/x-python",
   "name": "python",
   "nbconvert_exporter": "python",
   "pygments_lexer": "ipython3",
   "version": "3.10.11"
  }
 },
 "nbformat": 4,
 "nbformat_minor": 2
}
