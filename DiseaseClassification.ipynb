{
 "cells": [
  {
   "cell_type": "markdown",
   "metadata": {},
   "source": [
    "# Retinal Disease Detection and Classification\n",
    "\n",
    "## By: Jalen Wu, Yechan Na, Jonathan Zhang"
   ]
  },
  {
   "cell_type": "markdown",
   "metadata": {},
   "source": [
    "__Project Description:__\n",
    "\n",
    "The goal of this project is to develop a machine learning model capable of detecting retinal diseases by analyzing fundus images of the eye. Using computer vision and deep learning techniques, the model assists in early detection and diagnosis of retinal disease(s).\n",
    "\n",
    "__Applications and Impact:__\n",
    "\n",
    "This project could be used for clinical screening to help ophthalmologists identify diseases and improve efficiency on identifying these diseases. This automated detection system has the potential to make medical imaging diagnostics more accessible.\n",
    "\n",
    "__What we hope to achieve:__\n",
    "\n",
    "We hope to build a model that takes in images of the eye and accurately predicts whether an individual’s eyes are healthy or showing signs of disease. To quantify the effectiveness of our model, we will be measuring metrics such as F1 score, precision, recall, loss, and accuracy of our models and graphing them as a function of how many epochs we run on our training data (all of these scores should increase in subsequent epochs).\n",
    "\n",
    "- __Dataset__: https://www.kaggle.com/datasets/andrewmvd/retinal-disease-classification/data\n",
    "- __References__: \n",
    "    - https://www.mdpi.com/2306-5729/6/2/14\n",
    "    - https://jamanetwork.com/journals/jama/fullarticle/2588763\n",
    "    "
   ]
  },
  {
   "cell_type": "code",
   "execution_count": 1,
   "metadata": {},
   "outputs": [],
   "source": [
    "# imports\n",
    "\n",
    "import torch\n",
    "from torch import nn\n",
    "from torch.utils.data import DataLoader\n",
    "from torchvision import datasets\n",
    "from torchvision.transforms import ToTensor\n",
    "from torchvision import transforms\n",
    "import torch.nn.functional as F\n",
    "import numpy as np\n",
    "from matplotlib import pyplot as plt\n",
    "import os\n",
    "from torch.utils.data import Dataset\n",
    "import pandas as pd\n",
    "from skimage import io, transform\n",
    "from torch import tensor\n",
    "from PIL import Image\n",
    "from torch import flatten"
   ]
  },
  {
   "cell_type": "code",
   "execution_count": 2,
   "metadata": {},
   "outputs": [
    {
     "name": "stderr",
     "output_type": "stream",
     "text": [
      "c:\\Users\\Jalen\\anaconda3\\envs\\cuda_environment\\lib\\site-packages\\tqdm\\auto.py:21: TqdmWarning: IProgress not found. Please update jupyter and ipywidgets. See https://ipywidgets.readthedocs.io/en/stable/user_install.html\n",
      "  from .autonotebook import tqdm as notebook_tqdm\n"
     ]
    },
    {
     "name": "stdout",
     "output_type": "stream",
     "text": [
      "Path to dataset files: C:\\Users\\Jalen\\.cache\\kagglehub\\datasets\\andrewmvd\\retinal-disease-classification\\versions\\1\n"
     ]
    }
   ],
   "source": [
    "# Import Dataset\n",
    "import kagglehub\n",
    "\n",
    "# Download latest version\n",
    "path = kagglehub.dataset_download(\"andrewmvd/retinal-disease-classification\")\n",
    "\n",
    "print(\"Path to dataset files:\", path)"
   ]
  },
  {
   "cell_type": "code",
   "execution_count": 3,
   "metadata": {},
   "outputs": [
    {
     "name": "stdout",
     "output_type": "stream",
     "text": [
      "Using cuda device\n"
     ]
    }
   ],
   "source": [
    "# Get cpu, gpu or mps device for training.\n",
    "device = (\n",
    "    \"cuda\"\n",
    "    if torch.cuda.is_available()\n",
    "    else \"mps\"\n",
    "    if torch.backends.mps.is_available()\n",
    "    else \"cpu\"\n",
    ")\n",
    "print(f\"Using {device} device\")"
   ]
  },
  {
   "cell_type": "code",
   "execution_count": 4,
   "metadata": {},
   "outputs": [
    {
     "name": "stdout",
     "output_type": "stream",
     "text": [
      "C:\\Users\\Jalen\\.cache\\kagglehub\\datasets\\andrewmvd\\retinal-disease-classification\\versions\\1\n",
      "Directory exists and its contents are:\n",
      "['Evaluation_Set', 'Test_Set', 'Training_Set']\n"
     ]
    }
   ],
   "source": [
    "# X = 1424 x 2144 x 3 : h x w x colors\n",
    "# y = label\n",
    "transform = transforms.Compose([\n",
    "    transforms.Resize((int(1424 / 4), int(2144 / 4))), # Standardize image dimensions to 1424 x 2144\n",
    "    transforms.ToTensor(),          # Convert images to PyTorch tensors\n",
    "    #transforms.Normalize(mean=[0.5, 0.5, 0.5], std=[0.5, 0.5, 0.5])  # Normalize to [-1, 1]\n",
    "])\n",
    "\n",
    "base_directory = path  \n",
    "print(base_directory)\n",
    "\n",
    "if os.path.exists(base_directory):\n",
    "    print(\"Directory exists and its contents are:\")\n",
    "    print(os.listdir(base_directory))\n",
    "else:\n",
    "    print(\"Directory does not exist.\")"
   ]
  },
  {
   "cell_type": "code",
   "execution_count": 17,
   "metadata": {},
   "outputs": [],
   "source": [
    "# Constants (paths that will be accessed later in the project)\n",
    "BASE_DIRECTORY = path\n",
    "TRAINING_DIRECTORY = os.path.join(BASE_DIRECTORY, 'Training_Set', 'Training_Set', 'Training')\n",
    "TRAINING_LABELS = os.path.join(BASE_DIRECTORY, 'Training_Set', 'Training_Set', 'RFMiD_Training_Labels.csv')\n",
    "TESTING_DIRECTORY = os.path.join(BASE_DIRECTORY, 'Test_Set', 'Test_Set', 'Test')\n",
    "TESTING_LABELS = os.path.join(BASE_DIRECTORY, 'Test_Set', 'Test_Set', 'RFMiD_Testing_Labels.csv')"
   ]
  },
  {
   "cell_type": "code",
   "execution_count": 18,
   "metadata": {},
   "outputs": [],
   "source": [
    "class MultiClassDataset(Dataset):\n",
    "    \"\"\"\n",
    "    Supports structure of given dataset (images in child folder and labels in csv format).\n",
    "    \"\"\"\n",
    "    def __init__(self, label_csv_file, image_directory, transform=transform):\n",
    "        \"\"\"\n",
    "        Args:\n",
    "            label_csv_file (DataFrame): the Dataframe containing the labels for the image set.\n",
    "            image_directory (str): Directory with eye images.\n",
    "            transform (callable, optional): transform function to be applied to each image.\n",
    "        \"\"\"\n",
    "        self.label_csv_file = label_csv_file\n",
    "        self.image_directory = image_directory\n",
    "        self.transform = transform\n",
    "    \n",
    "    def __len__(self):\n",
    "        return len(self.label_csv_file)    \n",
    "\n",
    "    def __getitem__(self, index):\n",
    "        # Load image\n",
    "        image_path = os.path.join(self.image_directory, str(index + 1) + '.png')\n",
    "        current_image = io.imread(image_path)\n",
    "        current_image = Image.fromarray(current_image)\n",
    "\n",
    "        # Apply transforms to the image\n",
    "        if self.transform:\n",
    "            current_image = self.transform(current_image)\n",
    "\n",
    "        # Load label and convert to a class index\n",
    "        image_label = self.label_csv_file.iloc[index]\n",
    "        image_label = torch.tensor(image_label, dtype=torch.long)  # Ensure it's a single integer\n",
    "\n",
    "        return {'image': current_image, 'label': image_label}"
   ]
  },
  {
   "cell_type": "code",
   "execution_count": 19,
   "metadata": {},
   "outputs": [
    {
     "name": "stderr",
     "output_type": "stream",
     "text": [
      "C:\\Users\\Jalen\\AppData\\Local\\Temp\\ipykernel_15676\\881862298.py:31: FutureWarning: Series.__getitem__ treating keys as positions is deprecated. In a future version, integer keys will always be treated as labels (consistent with DataFrame behavior). To access a value by position, use `ser.iloc[pos]`\n",
      "  image_label = torch.tensor(image_label, dtype=torch.long)  # Ensure it's a single integer\n"
     ]
    },
    {
     "name": "stdout",
     "output_type": "stream",
     "text": [
      "torch.Size([64, 3, 356, 536])\n",
      "torch.Size([64, 45])\n",
      "tensor([1, 0, 0, 0, 0, 0, 0, 0, 0, 0, 0, 0, 0, 0, 0, 0, 0, 0, 0, 0, 0, 0, 0, 0,\n",
      "        0, 0, 0, 0, 0, 0, 0, 0, 0, 0, 0, 0, 0, 0, 0, 0, 0, 0, 0, 0, 0])\n",
      "tensor([[0., 0., 0.,  ..., 0., 0., 0.],\n",
      "        [0., 0., 0.,  ..., 0., 0., 0.],\n",
      "        [0., 0., 0.,  ..., 0., 0., 0.],\n",
      "        ...,\n",
      "        [0., 0., 0.,  ..., 0., 0., 0.],\n",
      "        [0., 0., 0.,  ..., 0., 0., 0.],\n",
      "        [0., 0., 0.,  ..., 0., 0., 0.]])\n"
     ]
    }
   ],
   "source": [
    "# Initializes dataframe before passing it into the Dataset and drops first two columns.\n",
    "training_label_df = pd.read_csv(TRAINING_LABELS)\n",
    "training_label_df = training_label_df.drop(columns=['ID', 'Disease_Risk'])\n",
    "\n",
    "# Testing dataframe\n",
    "testing_label_df = pd.read_csv(TESTING_LABELS)\n",
    "testing_label_df = testing_label_df.drop(columns=['ID', 'Disease_Risk'])\n",
    "\n",
    "# Initializing training dataset and loader.\n",
    "train_dataset = MultiClassDataset(label_csv_file=training_label_df, image_directory=TRAINING_DIRECTORY, transform=transform)\n",
    "train_loader = DataLoader(train_dataset, batch_size=64)\n",
    "\n",
    "# Initializing testing dataset and loader.\n",
    "test_dataset = MultiClassDataset(label_csv_file=testing_label_df, image_directory=TESTING_DIRECTORY, transform=transform)\n",
    "test_loader = DataLoader(test_dataset, batch_size=64)\n",
    "\n",
    "\n",
    "# Visualize loader\n",
    "res = next(iter(train_loader))\n",
    "print(res['image'].shape)\n",
    "print(res['label'].shape)\n",
    "\n",
    "print(res['label'][0])\n",
    "print(res['image'][0][0])"
   ]
  },
  {
   "cell_type": "code",
   "execution_count": 20,
   "metadata": {},
   "outputs": [
    {
     "name": "stderr",
     "output_type": "stream",
     "text": [
      "C:\\Users\\Jalen\\AppData\\Local\\Temp\\ipykernel_15676\\881862298.py:31: FutureWarning: Series.__getitem__ treating keys as positions is deprecated. In a future version, integer keys will always be treated as labels (consistent with DataFrame behavior). To access a value by position, use `ser.iloc[pos]`\n",
      "  image_label = torch.tensor(image_label, dtype=torch.long)  # Ensure it's a single integer\n"
     ]
    },
    {
     "name": "stdout",
     "output_type": "stream",
     "text": [
      "torch.Size([64, 3, 356, 536])\n",
      "torch.Size([64, 45])\n",
      "10\n"
     ]
    }
   ],
   "source": [
    "test_res = next(iter(test_loader))\n",
    "print(test_res['image'].shape)\n",
    "print(test_res['label'].shape)\n",
    "print(len(test_loader))"
   ]
  },
  {
   "cell_type": "markdown",
   "metadata": {},
   "source": [
    "Convolutional Neural Network "
   ]
  },
  {
   "cell_type": "code",
   "execution_count": 22,
   "metadata": {},
   "outputs": [
    {
     "name": "stdout",
     "output_type": "stream",
     "text": [
      "CNN(\n",
      "  (conv_layers): Sequential(\n",
      "    (0): Conv2d(3, 16, kernel_size=(3, 3), stride=(1, 1), padding=(1, 1))\n",
      "    (1): ReLU()\n",
      "    (2): MaxPool2d(kernel_size=2, stride=2, padding=0, dilation=1, ceil_mode=False)\n",
      "    (3): Conv2d(16, 32, kernel_size=(3, 3), stride=(1, 1), padding=(1, 1))\n",
      "    (4): ReLU()\n",
      "    (5): MaxPool2d(kernel_size=2, stride=2, padding=0, dilation=1, ceil_mode=False)\n",
      "    (6): Conv2d(32, 64, kernel_size=(3, 3), stride=(1, 1), padding=(1, 1))\n",
      "    (7): ReLU()\n",
      "    (8): AdaptiveAvgPool2d(output_size=(1, 1))\n",
      "  )\n",
      "  (fc): Sequential(\n",
      "    (0): Flatten(start_dim=1, end_dim=-1)\n",
      "    (1): Linear(in_features=64, out_features=45, bias=True)\n",
      "  )\n",
      ")\n"
     ]
    }
   ],
   "source": [
    "class CNN(nn.Module):\n",
    "    def __init__(self, num_classes=45):\n",
    "        super(CNN, self).__init__()\n",
    "        self.conv_layers = nn.Sequential(\n",
    "            nn.Conv2d(3, 16, kernel_size=3, padding=1),\n",
    "            nn.ReLU(),\n",
    "            nn.MaxPool2d(2, 2),\n",
    "            nn.Conv2d(16, 32, kernel_size=3, padding=1),\n",
    "            nn.ReLU(),\n",
    "            nn.MaxPool2d(2, 2),\n",
    "            nn.Conv2d(32, 64, kernel_size=3, padding=1),\n",
    "            nn.ReLU(),\n",
    "            nn.AdaptiveAvgPool2d((1, 1)) \n",
    "        )\n",
    "\n",
    "        self.fc = nn.Sequential(\n",
    "            nn.Flatten(),\n",
    "            nn.Linear(64, num_classes),\n",
    "        )\n",
    "\n",
    "    def forward(self, x):\n",
    "        x = self.conv_layers(x)\n",
    "        x = self.fc(x)\n",
    "        return x\n",
    "\n",
    "cnn = CNN().to(device)\n",
    "print(cnn)"
   ]
  },
  {
   "cell_type": "code",
   "execution_count": 23,
   "metadata": {},
   "outputs": [],
   "source": [
    "# Cross entropy loss and stochastic gradient descent optimizer.\n",
    "loss_fn = nn.CrossEntropyLoss()\n",
    "cnn_optimizer = torch.optim.SGD(cnn.parameters(), lr=1e-3)"
   ]
  },
  {
   "cell_type": "code",
   "execution_count": 24,
   "metadata": {},
   "outputs": [],
   "source": [
    "loss_values = []\n",
    "\n",
    "def train(model, train_loader, loss_fn, optimizer):\n",
    "    model.train()\n",
    "    size = len(train_loader.dataset)\n",
    "    epoch_loss = 0\n",
    "    \n",
    "    for batch, data in enumerate(train_loader):\n",
    "        X, y = data['image'].to(device), data['label'].to(device)\n",
    "\n",
    "        # Compute prediction error\n",
    "        pred = model(X)\n",
    "        y = torch.argmax(y, dim=1)\n",
    "\n",
    "        loss = loss_fn(pred, y)\n",
    "\n",
    "        # Backpropagation\n",
    "        loss.backward()\n",
    "        optimizer.step()\n",
    "        optimizer.zero_grad()\n",
    "        \n",
    "        if batch % 10 == 0:\n",
    "            loss, current = loss.item(), (batch + 1) * len(X)\n",
    "            print(f\"loss: {loss:>7f}  [{current:>5d}/{size:>5d}]\")\n",
    "\n",
    "        epoch_loss += loss\n",
    "\n",
    "    avg_loss = epoch_loss / len(train_loader)\n",
    "    loss_values.append(avg_loss)\n",
    "    print(f\"Loss: {avg_loss:.4f}\")\n",
    "\n",
    "        # # Early stopping\n",
    "        # if epoch >= 3 and loss_values[-1] > loss_values[-2]:\n",
    "        #     print(\"Early stopping due to loss increase.\")\n",
    "        #     break"
   ]
  },
  {
   "cell_type": "code",
   "execution_count": 25,
   "metadata": {},
   "outputs": [],
   "source": [
    "accuracy_values = []\n",
    "def test(test_loader, model, loss_fn):\n",
    "    size = len(test_loader.dataset)\n",
    "    num_batches = len(test_loader)\n",
    "    model.eval()\n",
    "    test_loss, correct = 0, 0\n",
    "    counter = 0\n",
    "    with torch.no_grad():\n",
    "        for batch, data in enumerate(test_loader):\n",
    "            X, y = data['image'].to(device), data['label'].to(device)\n",
    "            pred = model(X)\n",
    "            y = torch.argmax(y, dim=1)\n",
    "            test_loss += loss_fn(pred, y).item()\n",
    "            correct += (pred.argmax(1) == y).type(torch.float).sum().item()\n",
    "            counter += 1\n",
    "    accuracy = correct / size\n",
    "    accuracy_values.append(accuracy)\n",
    "\n",
    "    print(f\"Accuracy: {accuracy:.4f}\")"
   ]
  },
  {
   "cell_type": "code",
   "execution_count": 26,
   "metadata": {},
   "outputs": [
    {
     "name": "stdout",
     "output_type": "stream",
     "text": [
      "Training Neural Network\n",
      "-------------------------------\n",
      "\n",
      "Epoch 1\n",
      "-------------------------------\n"
     ]
    },
    {
     "name": "stderr",
     "output_type": "stream",
     "text": [
      "C:\\Users\\Jalen\\AppData\\Local\\Temp\\ipykernel_15676\\881862298.py:31: FutureWarning: Series.__getitem__ treating keys as positions is deprecated. In a future version, integer keys will always be treated as labels (consistent with DataFrame behavior). To access a value by position, use `ser.iloc[pos]`\n",
      "  image_label = torch.tensor(image_label, dtype=torch.long)  # Ensure it's a single integer\n"
     ]
    },
    {
     "name": "stdout",
     "output_type": "stream",
     "text": [
      "loss: 3.803602  [   64/ 1920]\n",
      "loss: 3.820002  [  704/ 1920]\n",
      "loss: 3.802398  [ 1344/ 1920]\n",
      "Loss: 3.8082\n",
      "Accuracy: 0.0000\n",
      "Epoch 2\n",
      "-------------------------------\n",
      "loss: 3.795962  [   64/ 1920]\n",
      "loss: 3.814906  [  704/ 1920]\n",
      "loss: 3.795848  [ 1344/ 1920]\n",
      "Loss: 3.8009\n",
      "Accuracy: 0.0000\n",
      "Epoch 3\n",
      "-------------------------------\n",
      "loss: 3.788307  [   64/ 1920]\n",
      "loss: 3.809814  [  704/ 1920]\n",
      "loss: 3.789319  [ 1344/ 1920]\n",
      "Loss: 3.7936\n",
      "Accuracy: 0.0000\n",
      "Epoch 4\n",
      "-------------------------------\n",
      "loss: 3.780689  [   64/ 1920]\n",
      "loss: 3.804742  [  704/ 1920]\n",
      "loss: 3.782802  [ 1344/ 1920]\n",
      "Loss: 3.7863\n",
      "Accuracy: 0.0000\n",
      "Epoch 5\n",
      "-------------------------------\n",
      "loss: 3.773058  [   64/ 1920]\n",
      "loss: 3.799666  [  704/ 1920]\n",
      "loss: 3.776284  [ 1344/ 1920]\n",
      "Loss: 3.7790\n",
      "Accuracy: 0.0000\n",
      "Epoch 6\n",
      "-------------------------------\n",
      "loss: 3.765420  [   64/ 1920]\n",
      "loss: 3.794587  [  704/ 1920]\n",
      "loss: 3.769757  [ 1344/ 1920]\n",
      "Loss: 3.7717\n",
      "Accuracy: 0.0000\n",
      "Epoch 7\n",
      "-------------------------------\n",
      "loss: 3.757760  [   64/ 1920]\n",
      "loss: 3.789497  [  704/ 1920]\n",
      "loss: 3.763216  [ 1344/ 1920]\n",
      "Loss: 3.7644\n",
      "Accuracy: 0.4031\n",
      "Epoch 8\n",
      "-------------------------------\n",
      "loss: 3.750068  [   64/ 1920]\n",
      "loss: 3.784405  [  704/ 1920]\n",
      "loss: 3.756671  [ 1344/ 1920]\n",
      "Loss: 3.7570\n",
      "Accuracy: 0.4031\n",
      "Epoch 9\n",
      "-------------------------------\n",
      "loss: 3.742382  [   64/ 1920]\n",
      "loss: 3.779318  [  704/ 1920]\n",
      "loss: 3.750115  [ 1344/ 1920]\n",
      "Loss: 3.7497\n",
      "Accuracy: 0.4031\n",
      "Epoch 10\n",
      "-------------------------------\n",
      "loss: 3.734647  [   64/ 1920]\n",
      "loss: 3.774190  [  704/ 1920]\n",
      "loss: 3.743507  [ 1344/ 1920]\n",
      "Loss: 3.7423\n",
      "Accuracy: 0.4031\n",
      "Epoch 11\n",
      "-------------------------------\n",
      "loss: 3.726851  [   64/ 1920]\n",
      "loss: 3.769017  [  704/ 1920]\n",
      "loss: 3.736848  [ 1344/ 1920]\n",
      "Loss: 3.7349\n",
      "Accuracy: 0.4031\n",
      "Epoch 12\n",
      "-------------------------------\n",
      "loss: 3.719008  [   64/ 1920]\n",
      "loss: 3.763805  [  704/ 1920]\n",
      "loss: 3.730147  [ 1344/ 1920]\n",
      "Loss: 3.7274\n",
      "Accuracy: 0.4031\n",
      "Epoch 13\n",
      "-------------------------------\n",
      "loss: 3.711123  [   64/ 1920]\n",
      "loss: 3.758555  [  704/ 1920]\n",
      "loss: 3.723402  [ 1344/ 1920]\n",
      "Loss: 3.7198\n",
      "Accuracy: 0.4031\n",
      "Epoch 14\n",
      "-------------------------------\n",
      "loss: 3.703188  [   64/ 1920]\n",
      "loss: 3.753265  [  704/ 1920]\n",
      "loss: 3.716609  [ 1344/ 1920]\n",
      "Loss: 3.7123\n",
      "Accuracy: 0.4031\n",
      "Epoch 15\n",
      "-------------------------------\n",
      "loss: 3.695198  [   64/ 1920]\n",
      "loss: 3.747939  [  704/ 1920]\n",
      "loss: 3.709771  [ 1344/ 1920]\n",
      "Loss: 3.7046\n",
      "Accuracy: 0.4031\n",
      "Epoch 16\n",
      "-------------------------------\n",
      "loss: 3.687183  [   64/ 1920]\n",
      "loss: 3.742599  [  704/ 1920]\n",
      "loss: 3.702930  [ 1344/ 1920]\n",
      "Loss: 3.6970\n",
      "Accuracy: 0.4031\n",
      "Epoch 17\n",
      "-------------------------------\n",
      "loss: 3.679214  [   64/ 1920]\n",
      "loss: 3.737245  [  704/ 1920]\n",
      "loss: 3.696070  [ 1344/ 1920]\n",
      "Loss: 3.6894\n",
      "Accuracy: 0.4031\n",
      "Epoch 18\n",
      "-------------------------------\n",
      "loss: 3.671214  [   64/ 1920]\n",
      "loss: 3.731845  [  704/ 1920]\n",
      "loss: 3.689154  [ 1344/ 1920]\n",
      "Loss: 3.6817\n",
      "Accuracy: 0.4031\n",
      "Epoch 19\n",
      "-------------------------------\n",
      "loss: 3.663146  [   64/ 1920]\n",
      "loss: 3.726392  [  704/ 1920]\n",
      "loss: 3.682172  [ 1344/ 1920]\n",
      "Loss: 3.6740\n",
      "Accuracy: 0.4031\n",
      "Epoch 20\n",
      "-------------------------------\n",
      "loss: 3.654998  [   64/ 1920]\n",
      "loss: 3.720884  [  704/ 1920]\n",
      "loss: 3.675124  [ 1344/ 1920]\n",
      "Loss: 3.6662\n",
      "Accuracy: 0.4031\n"
     ]
    }
   ],
   "source": [
    "print(\"Training Neural Network\\n-------------------------------\\n\")\n",
    "for epoch in range(20):\n",
    "    print(f\"Epoch {epoch+1}\\n-------------------------------\")\n",
    "    train(cnn, train_loader, loss_fn, cnn_optimizer)\n",
    "    test(test_loader, cnn, loss_fn)"
   ]
  },
  {
   "cell_type": "markdown",
   "metadata": {},
   "source": [
    "Saving model:"
   ]
  },
  {
   "cell_type": "code",
   "execution_count": 27,
   "metadata": {},
   "outputs": [
    {
     "name": "stdout",
     "output_type": "stream",
     "text": [
      "Saved PyTorch Model State to model.pth\n"
     ]
    }
   ],
   "source": [
    "torch.save(cnn.state_dict(), \"model_2.pth\")\n",
    "print(\"Saved PyTorch Model State to model.pth\")"
   ]
  },
  {
   "cell_type": "code",
   "execution_count": null,
   "metadata": {},
   "outputs": [
    {
     "name": "stdout",
     "output_type": "stream",
     "text": [
      "Loss values: [tensor(3.8082, device='cuda:0', grad_fn=<DivBackward0>), tensor(3.8009, device='cuda:0', grad_fn=<DivBackward0>), tensor(3.7936, device='cuda:0', grad_fn=<DivBackward0>), tensor(3.7863, device='cuda:0', grad_fn=<DivBackward0>), tensor(3.7790, device='cuda:0', grad_fn=<DivBackward0>), tensor(3.7717, device='cuda:0', grad_fn=<DivBackward0>), tensor(3.7644, device='cuda:0', grad_fn=<DivBackward0>), tensor(3.7570, device='cuda:0', grad_fn=<DivBackward0>), tensor(3.7497, device='cuda:0', grad_fn=<DivBackward0>), tensor(3.7423, device='cuda:0', grad_fn=<DivBackward0>), tensor(3.7349, device='cuda:0', grad_fn=<DivBackward0>), tensor(3.7274, device='cuda:0', grad_fn=<DivBackward0>), tensor(3.7198, device='cuda:0', grad_fn=<DivBackward0>), tensor(3.7123, device='cuda:0', grad_fn=<DivBackward0>), tensor(3.7046, device='cuda:0', grad_fn=<DivBackward0>), tensor(3.6970, device='cuda:0', grad_fn=<DivBackward0>), tensor(3.6894, device='cuda:0', grad_fn=<DivBackward0>), tensor(3.6817, device='cuda:0', grad_fn=<DivBackward0>), tensor(3.6740, device='cuda:0', grad_fn=<DivBackward0>), tensor(3.6662, device='cuda:0', grad_fn=<DivBackward0>)]\n",
      "Accuracy values: [0.0, 0.0, 0.0, 0.0, 0.0, 0.0, 0.403125, 0.403125, 0.403125, 0.403125, 0.403125, 0.403125, 0.403125, 0.403125, 0.403125, 0.403125, 0.403125, 0.403125, 0.403125, 0.403125]\n"
     ]
    }
   ],
   "source": [
    "# Cumulative loss and accuracy values after training.\n",
    "\n",
    "print(\"Loss values:\", loss_values)\n",
    "print(\"Accuracy values:\", accuracy_values)"
   ]
  },
  {
   "cell_type": "markdown",
   "metadata": {},
   "source": [
    "Graphing loss and accuracy values"
   ]
  },
  {
   "cell_type": "code",
   "execution_count": null,
   "metadata": {},
   "outputs": [
    {
     "name": "stdout",
     "output_type": "stream",
     "text": [
      "[array(3.8082256, dtype=float32), array(3.8009007, dtype=float32), array(3.7935894, dtype=float32), array(3.7862945, dtype=float32), array(3.778994, dtype=float32), array(3.771688, dtype=float32), array(3.7643664, dtype=float32), array(3.7570362, dtype=float32), array(3.7496984, dtype=float32), array(3.742306, dtype=float32), array(3.7348595, dtype=float32), array(3.7273693, dtype=float32), array(3.7198365, dtype=float32), array(3.7122574, dtype=float32), array(3.7046366, dtype=float32), array(3.6970184, dtype=float32), array(3.6894054, dtype=float32), array(3.6817374, dtype=float32), array(3.6739955, dtype=float32), array(3.666176, dtype=float32)]\n"
     ]
    },
    {
     "data": {
      "image/png": "[encoded data removed]",
      "text/plain": [
       "<Figure size 640x480 with 1 Axes>"
      ]
     },
     "metadata": {},
     "output_type": "display_data"
    }
   ],
   "source": [
    "np_loss_values = []\n",
    "for v in loss_values:\n",
    "    np_loss_value = v.cpu().detach().numpy()\n",
    "    np_loss_values.append(np_loss_value)\n",
    "\n",
    "print(np_loss_values)\n",
    "plt.plot(np_loss_values, label='Loss')\n",
    "plt.xlabel('Epoch')\n",
    "plt.ylabel('Loss')\n",
    "plt.title('Loss over training')\n",
    "plt.legend()\n",
    "plt.show()"
   ]
  },
  {
   "cell_type": "code",
   "execution_count": 35,
   "metadata": {},
   "outputs": [
    {
     "data": {
      "image/png": "[encoded data removed]",
      "text/plain": [
       "<Figure size 640x480 with 1 Axes>"
      ]
     },
     "metadata": {},
     "output_type": "display_data"
    }
   ],
   "source": [
    "plt.plot(accuracy_values, label='Accuracy')\n",
    "plt.xlabel('Epoch')\n",
    "plt.ylabel('Accuracy')\n",
    "plt.title('Accuracy over training')\n",
    "plt.legend()\n",
    "plt.show()"
   ]
  },
  {
   "cell_type": "markdown",
   "metadata": {},
   "source": [
    "# Analysis\n",
    "- Plot loss/accuracy (y) with number of epochs ran (x)\n",
    "- Recall/Precision/F1 score "
   ]
  },
  {
   "cell_type": "code",
   "execution_count": null,
   "metadata": {},
   "outputs": [],
   "source": [
    "import matplotlib.pyplot as plt\n",
    "\n",
    "plt.figure()\n",
    "plt.plot(range(1, len(cnn_losses) + 1), cnn_losses, label=\"CNN Loss\")\n",
    "plt.xlabel(\"Epochs\")\n",
    "plt.ylabel(\"Loss\")\n",
    "plt.legend()\n",
    "plt.title(\"Loss Curves\")\n",
    "plt.show()"
   ]
  }
 ],
 "metadata": {
  "kernelspec": {
   "display_name": "cuda_environment",
   "language": "python",
   "name": "python3"
  },
  "language_info": {
   "codemirror_mode": {
    "name": "ipython",
    "version": 3
   },
   "file_extension": ".py",
   "mimetype": "text/x-python",
   "name": "python",
   "nbconvert_exporter": "python",
   "pygments_lexer": "ipython3",
   "version": "3.10.15"
  }
 },
 "nbformat": 4,
 "nbformat_minor": 2
}
